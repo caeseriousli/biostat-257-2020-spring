{
 "cells": [
  {
   "cell_type": "markdown",
   "metadata": {},
   "source": [
    "# Biostat 257 HW1\n",
    "## Caesar Z. Li\n",
    "\n",
    "Note: HW Q1 has been completed on Github via creation of this repository\n",
    "\n",
    "\n",
    "## Question 2\n",
    "1\\. Associative rule for addition says `(x + y) + z == x + (y + z)`. Check association rule using `x = 0.1`, `y = 0.1` and `z = 1.0` in Julia. Explain what you find.\n",
    "Answer:"
   ]
  },
  {
   "cell_type": "code",
   "execution_count": 10,
   "metadata": {},
   "outputs": [
    {
     "name": "stdout",
     "output_type": "stream",
     "text": [
      "(x + y) + z == x + (y + z) = false\n",
      "typeof((x + y) + z) = Float64\n",
      "x + (y + z) = 1.2000000000000002\n"
     ]
    },
    {
     "data": {
      "text/plain": [
       "1.2000000000000002"
      ]
     },
     "execution_count": 10,
     "metadata": {},
     "output_type": "execute_result"
    }
   ],
   "source": [
    "# Practicing multiple assignment tricks by:\n",
    "x, y, z = 0.1, 0.1, 1.0\n",
    "@show (x + y) + z == x + (y + z)\n",
    "@show typeof((x + y) + z)\n",
    "@show x + (y + z)"
   ]
  },
  {
   "cell_type": "markdown",
   "metadata": {},
   "source": [
    "As shown above, association rule failed in Julia. It's due to the accuracy errors of Float64. Note that we x+(y+z) gives a result with an error of +2E-15, right at the magnitude limit of Float64.\n",
    "<br/><br/><br/>\n",
    "\n",
    "2\\. Do floating-point numbers obey the associative rule for multiplication: `(x * y) * z == x * (y * z)`?    \n",
    "Answer: Not necessarily. See counter example below:"
   ]
  },
  {
   "cell_type": "code",
   "execution_count": 55,
   "metadata": {},
   "outputs": [
    {
     "name": "stdout",
     "output_type": "stream",
     "text": [
      "(x * y) * z == x * (y * z) = false\n",
      "(x * y) * z = 1.0999999999999999\n",
      "x * (y * z) = 1.1\n"
     ]
    },
    {
     "data": {
      "text/plain": [
       "1.1"
      ]
     },
     "execution_count": 55,
     "metadata": {},
     "output_type": "execute_result"
    }
   ],
   "source": [
    "x, y, z = 1E16, 1.1, 1E-16\n",
    "@show (x * y) * z == x * (y * z)\n",
    "@show (x * y) * z\n",
    "@show x * (y * z)"
   ]
  },
  {
   "cell_type": "markdown",
   "metadata": {},
   "source": [
    "3\\. Do floating-point numbers obey the distributive rule:`a * (x + y) == a * x + a * y`?    \n",
    "Answer:  Not necessarily. See counter example below:"
   ]
  },
  {
   "cell_type": "code",
   "execution_count": 57,
   "metadata": {},
   "outputs": [
    {
     "name": "stdout",
     "output_type": "stream",
     "text": [
      "a * (x + y) == a * x + a * y = false\n",
      "a * (x + y) = 1.0000000000000002\n",
      "a * x + a * y = 1.0\n"
     ]
    },
    {
     "data": {
      "text/plain": [
       "1.0"
      ]
     },
     "execution_count": 57,
     "metadata": {},
     "output_type": "execute_result"
    }
   ],
   "source": [
    "a, x, y = 1E-16, 1.1, 1E16\n",
    "@show a * (x + y) == a * x + a * y\n",
    "@show a * (x + y) \n",
    "@show a * x + a * y"
   ]
  },
  {
   "cell_type": "markdown",
   "metadata": {},
   "source": [
    "4\\. Is `0 * x == 0` true for all floating-point number x?    \n",
    "Answer: Not true for all floating numbers. If `x = Inf`, which is also a floating-point number (a big number $\\approx$ 1E308). The result is NaN."
   ]
  },
  {
   "cell_type": "code",
   "execution_count": 63,
   "metadata": {},
   "outputs": [
    {
     "name": "stdout",
     "output_type": "stream",
     "text": [
      "0x = NaN\n"
     ]
    },
    {
     "data": {
      "text/plain": [
       "Float64"
      ]
     },
     "execution_count": 63,
     "metadata": {},
     "output_type": "execute_result"
    }
   ],
   "source": [
    "x = Inf\n",
    "@show 0 * x\n",
    "@show typeof(x)"
   ]
  },
  {
   "cell_type": "markdown",
   "metadata": {},
   "source": [
    "5\\. Is `x / a == x * (1 / a)` always true?    \n",
    "Answer: Not neccessarily. Counter example:"
   ]
  },
  {
   "cell_type": "code",
   "execution_count": null,
   "metadata": {},
   "outputs": [],
   "source": [
    "x, a = 1E-16, 1.1\n",
    "@show x / a == x * (1 / a)\n",
    "@show x / a\n",
    "@show x * (1 / a)"
   ]
  }
 ],
 "metadata": {
  "kernelspec": {
   "display_name": "Julia 1.2.0",
   "language": "julia",
   "name": "julia-1.2"
  },
  "language_info": {
   "file_extension": ".jl",
   "mimetype": "application/julia",
   "name": "julia",
   "version": "1.2.0"
  }
 },
 "nbformat": 4,
 "nbformat_minor": 2
}
