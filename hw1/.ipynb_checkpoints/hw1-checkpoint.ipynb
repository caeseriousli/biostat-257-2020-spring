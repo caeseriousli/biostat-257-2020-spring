{
 "cells": [
  {
   "cell_type": "markdown",
   "metadata": {},
   "source": [
    "# Biostat 257 HW1\n",
    "## Caesar Z. Li\n",
    "\n",
    "Note: HW Q1 has been completed on Github via creation of this repository\n",
    "\n",
    "\n",
    "## Question 2\n",
    "1\\. Associative rule for addition says `(x + y) + z == x + (y + z)`. Check association rule using `x = 0.1`, `y = 0.1` and `z = 1.0` in Julia. Explain what you find.\n",
    "Answer:"
   ]
  },
  {
   "cell_type": "code",
   "execution_count": 10,
   "metadata": {},
   "outputs": [
    {
     "name": "stdout",
     "output_type": "stream",
     "text": [
      "(x + y) + z == x + (y + z) = false\n",
      "typeof((x + y) + z) = Float64\n",
      "x + (y + z) = 1.2000000000000002\n"
     ]
    },
    {
     "data": {
      "text/plain": [
       "1.2000000000000002"
      ]
     },
     "execution_count": 10,
     "metadata": {},
     "output_type": "execute_result"
    }
   ],
   "source": [
    "# Practicing multiple assignment tricks by:\n",
    "x, y, z = 0.1, 0.1, 1.0\n",
    "@show (x + y) + z == x + (y + z)\n",
    "@show typeof((x + y) + z)\n",
    "@show x + (y + z)"
   ]
  },
  {
   "cell_type": "markdown",
   "metadata": {},
   "source": [
    "As shown above, association rule failed in Julia. It's due to the accuracy errors of Float64. Note that we x+(y+z) gives a result with an error of +2E-15, right at the magnitude limit of Float64.\n",
    "<br/><br/><br/>\n",
    "\n",
    "2\\. Do floating-point numbers obey the associative rule for multiplication: `(x * y) * z == x * (y * z)`?    \n",
    "Answer: Not necessarily. See counter example below:"
   ]
  },
  {
   "cell_type": "code",
   "execution_count": 7,
   "metadata": {},
   "outputs": [
    {
     "name": "stdout",
     "output_type": "stream",
     "text": [
      "(x * y) * z == x * (y * z) = false\n",
      "(x * y) * z = 1.0999999999999999\n",
      "x * (y * z) = 1.1\n"
     ]
    },
    {
     "data": {
      "text/plain": [
       "1.1"
      ]
     },
     "execution_count": 7,
     "metadata": {},
     "output_type": "execute_result"
    }
   ],
   "source": [
    "x, y, z = 1E16, 1.1, 1E-16\n",
    "@show (x * y) * z == x * (y * z)\n",
    "@show (x * y) * z\n",
    "@show x * (y * z)"
   ]
  },
  {
   "cell_type": "markdown",
   "metadata": {},
   "source": [
    "3\\. Do floating-point numbers obey the distributive rule:`a * (x + y) == a * x + a * y`?    \n",
    "Answer:  Not necessarily. See counter example below:"
   ]
  },
  {
   "cell_type": "code",
   "execution_count": 57,
   "metadata": {},
   "outputs": [
    {
     "name": "stdout",
     "output_type": "stream",
     "text": [
      "a * (x + y) == a * x + a * y = false\n",
      "a * (x + y) = 1.0000000000000002\n",
      "a * x + a * y = 1.0\n"
     ]
    },
    {
     "data": {
      "text/plain": [
       "1.0"
      ]
     },
     "execution_count": 57,
     "metadata": {},
     "output_type": "execute_result"
    }
   ],
   "source": [
    "a, x, y = 1E-16, 1.1, 1E16\n",
    "@show a * (x + y) == a * x + a * y\n",
    "@show a * (x + y) \n",
    "@show a * x + a * y"
   ]
  },
  {
   "cell_type": "markdown",
   "metadata": {},
   "source": [
    "4\\. Is `0 * x == 0` true for all floating-point number x?    \n",
    "Answer: Not true for all floating numbers. If `x = Inf`, which is also a floating-point number (a big number $\\approx$ 1E308). The result is NaN."
   ]
  },
  {
   "cell_type": "code",
   "execution_count": 63,
   "metadata": {},
   "outputs": [
    {
     "name": "stdout",
     "output_type": "stream",
     "text": [
      "0x = NaN\n"
     ]
    },
    {
     "data": {
      "text/plain": [
       "Float64"
      ]
     },
     "execution_count": 63,
     "metadata": {},
     "output_type": "execute_result"
    }
   ],
   "source": [
    "x = Inf\n",
    "@show 0 * x\n",
    "@show typeof(x)"
   ]
  },
  {
   "cell_type": "markdown",
   "metadata": {},
   "source": [
    "5\\. Is `x / a == x * (1 / a)` always true?    \n",
    "Answer: Not neccessarily. Counter example:"
   ]
  },
  {
   "cell_type": "code",
   "execution_count": 12,
   "metadata": {},
   "outputs": [
    {
     "name": "stdout",
     "output_type": "stream",
     "text": [
      "x / a == x * (1 / a) = false\n",
      "x / a = 1.1000000000000002e16\n",
      "x * (1 / a) = 1.1e16\n"
     ]
    },
    {
     "data": {
      "text/plain": [
       "1.1e16"
      ]
     },
     "execution_count": 12,
     "metadata": {},
     "output_type": "execute_result"
    }
   ],
   "source": [
    "x, a = 1.1, 1E-16\n",
    "@show x / a == x * (1 / a)\n",
    "@show x / a\n",
    "@show x * (1 / a)"
   ]
  },
  {
   "cell_type": "markdown",
   "metadata": {},
   "source": [
    "## Question 3\n",
    "\n",
    "1\\. Use `@code_llvm` to find the LLVM bitcode of compiled `g` with `Int64` input.    \n",
    "Answer: shown llvm code below:"
   ]
  },
  {
   "cell_type": "code",
   "execution_count": 16,
   "metadata": {},
   "outputs": [
    {
     "name": "stdout",
     "output_type": "stream",
     "text": [
      "\n",
      ";  @ In[16]:2 within `g'\n",
      "define i64 @julia_g_16506(i64) {\n",
      "top:\n",
      ";  @ In[16]:3 within `g'\n",
      "; ┌ @ int.jl:54 within `*'\n",
      "   %1 = mul i64 %0, 9765625\n",
      "; └\n",
      "; ┌ @ int.jl:52 within `-'\n",
      "   %2 = add i64 %1, -2441406\n",
      "; └\n",
      ";  @ In[16]:5 within `g'\n",
      "  ret i64 %2\n",
      "}\n"
     ]
    }
   ],
   "source": [
    "function g(k)\n",
    "    for i in 1:10\n",
    "        k = 5k - 1\n",
    "    end\n",
    "    k\n",
    "end\n",
    "\n",
    "@code_llvm g(2)"
   ]
  },
  {
   "cell_type": "markdown",
   "metadata": {},
   "source": [
    "2\\. Use @code_llvm to find the LLVM bitcode of compiled g with Float64 input.    \n",
    "Answer: shown llvm code below:"
   ]
  },
  {
   "cell_type": "code",
   "execution_count": 17,
   "metadata": {},
   "outputs": [
    {
     "name": "stdout",
     "output_type": "stream",
     "text": [
      "\n",
      ";  @ In[16]:2 within `g'\n",
      "define double @julia_g_16507(double) {\n",
      "top:\n",
      ";  @ In[16]:3 within `g'\n",
      "; ┌ @ promotion.jl:314 within `*' @ float.jl:399\n",
      "   %1 = fmul double %0, 5.000000e+00\n",
      "; └\n",
      "; ┌ @ promotion.jl:315 within `-' @ float.jl:397\n",
      "   %2 = fadd double %1, -1.000000e+00\n",
      "; └\n",
      "; ┌ @ promotion.jl:314 within `*' @ float.jl:399\n",
      "   %3 = fmul double %2, 5.000000e+00\n",
      "; └\n",
      "; ┌ @ promotion.jl:315 within `-' @ float.jl:397\n",
      "   %4 = fadd double %3, -1.000000e+00\n",
      "; └\n",
      "; ┌ @ promotion.jl:314 within `*' @ float.jl:399\n",
      "   %5 = fmul double %4, 5.000000e+00\n",
      "; └\n",
      "; ┌ @ promotion.jl:315 within `-' @ float.jl:397\n",
      "   %6 = fadd double %5, -1.000000e+00\n",
      "; └\n",
      "; ┌ @ promotion.jl:314 within `*' @ float.jl:399\n",
      "   %7 = fmul double %6, 5.000000e+00\n",
      "; └\n",
      "; ┌ @ promotion.jl:315 within `-' @ float.jl:397\n",
      "   %8 = fadd double %7, -1.000000e+00\n",
      "; └\n",
      "; ┌ @ promotion.jl:314 within `*' @ float.jl:399\n",
      "   %9 = fmul double %8, 5.000000e+00\n",
      "; └\n",
      "; ┌ @ promotion.jl:315 within `-' @ float.jl:397\n",
      "   %10 = fadd double %9, -1.000000e+00\n",
      "; └\n",
      "; ┌ @ promotion.jl:314 within `*' @ float.jl:399\n",
      "   %11 = fmul double %10, 5.000000e+00\n",
      "; └\n",
      "; ┌ @ promotion.jl:315 within `-' @ float.jl:397\n",
      "   %12 = fadd double %11, -1.000000e+00\n",
      "; └\n",
      "; ┌ @ promotion.jl:314 within `*' @ float.jl:399\n",
      "   %13 = fmul double %12, 5.000000e+00\n",
      "; └\n",
      "; ┌ @ promotion.jl:315 within `-' @ float.jl:397\n",
      "   %14 = fadd double %13, -1.000000e+00\n",
      "; └\n",
      "; ┌ @ promotion.jl:314 within `*' @ float.jl:399\n",
      "   %15 = fmul double %14, 5.000000e+00\n",
      "; └\n",
      "; ┌ @ promotion.jl:315 within `-' @ float.jl:397\n",
      "   %16 = fadd double %15, -1.000000e+00\n",
      "; └\n",
      "; ┌ @ promotion.jl:314 within `*' @ float.jl:399\n",
      "   %17 = fmul double %16, 5.000000e+00\n",
      "; └\n",
      "; ┌ @ promotion.jl:315 within `-' @ float.jl:397\n",
      "   %18 = fadd double %17, -1.000000e+00\n",
      "; └\n",
      "; ┌ @ promotion.jl:314 within `*' @ float.jl:399\n",
      "   %19 = fmul double %18, 5.000000e+00\n",
      "; └\n",
      "; ┌ @ promotion.jl:315 within `-' @ float.jl:397\n",
      "   %20 = fadd double %19, -1.000000e+00\n",
      "; └\n",
      ";  @ In[16]:5 within `g'\n",
      "  ret double %20\n",
      "}\n"
     ]
    }
   ],
   "source": [
    "@code_llvm g(2.0)"
   ]
  },
  {
   "cell_type": "markdown",
   "metadata": {},
   "source": [
    "3\\. Compare the bitcode from questions 1 and 2. What do you find?    \n",
    "Answer: The g(k) function's bit code for Float64 input is much longer than that of an integer input. Note here that when the input is integer, Julia automatically simplifies the for loop into $5^{10}k - 5^{10} - 5^9 - ...$. I can see the first part of the code simply multiply the input by \"9,765,625\", which is exactly 5^10. Then the second step minus the constants in the expression that I wrote above. However, for double precision inputs, my guess here is that, Julia is designed to be cautious here and decides not to use the simplifications on double precision numbers, maybe due to potential loss of accuracy.    \n",
    "<br/><br/>\n",
    "\n",
    "4\\. Read Julia documentation on `@fastmath` and repeat the questions 1-3 on the function below, and explain what does macro `@fastmath` do?"
   ]
  },
  {
   "cell_type": "code",
   "execution_count": 19,
   "metadata": {},
   "outputs": [
    {
     "name": "stdout",
     "output_type": "stream",
     "text": [
      "\n",
      ";  @ In[19]:2 within `g_fastmath'\n",
      "define i64 @julia_g_fastmath_16509(i64) {\n",
      "top:\n",
      ";  @ In[19]:3 within `g_fastmath'\n",
      "; ┌ @ fastmath.jl:257 within `mul_fast'\n",
      "; │┌ @ int.jl:54 within `*'\n",
      "    %1 = mul i64 %0, 9765625\n",
      "; └└\n",
      "; ┌ @ fastmath.jl:257 within `sub_fast'\n",
      "; │┌ @ int.jl:52 within `-'\n",
      "    %2 = add i64 %1, -2441406\n",
      "; └└\n",
      ";  @ In[19]:5 within `g_fastmath'\n",
      "  ret i64 %2\n",
      "}\n",
      "\n",
      ";  @ In[19]:2 within `g_fastmath'\n",
      "define double @julia_g_fastmath_16510(double) {\n",
      "top:\n",
      ";  @ In[19]:3 within `g_fastmath'\n",
      "; ┌ @ fastmath.jl:254 within `mul_fast' @ fastmath.jl:163\n",
      "   %1 = fmul fast double %0, 0x4162A05F20000000\n",
      "; └\n",
      "; ┌ @ fastmath.jl:254 within `sub_fast' @ fastmath.jl:162\n",
      "   %2 = fadd fast double %1, 0xC142A05F00000000\n",
      "; └\n",
      ";  @ In[19]:5 within `g_fastmath'\n",
      "  ret double %2\n",
      "}\n"
     ]
    }
   ],
   "source": [
    "function g_fastmath(k)  \n",
    "    @fastmath for i in 1:10  \n",
    "        k = 5k - 1\n",
    "    end\n",
    "    k\n",
    "end\n",
    "\n",
    "@code_llvm g_fastmath(2)\n",
    "@code_llvm g_fastmath(2.0)"
   ]
  },
  {
   "cell_type": "markdown",
   "metadata": {},
   "source": [
    "Answer: This time both of the llvm codes take only two steps. I believe `@fastmath` forces Julia to mathematically simplify and reduce all possible iterations regardless of input types. This should be done with caution, as fastmath optimizations are true for real numbers, but not necessarily for IEEE numbers. Fortunately, in our example it won't give erroneous results, and it's a speed-up for double precision inputs.    \n",
    "<br/><br/>\n",
    "\n",
    "## Question 4\n",
    "\n",
    "1\\. Plot the polynomial y = x^7 - 7x^6 + 21x^5 - 35x^4 + 35x^3 - 21x^2 + 7x -1 at points x."
   ]
  },
  {
   "cell_type": "code",
   "execution_count": null,
   "metadata": {},
   "outputs": [],
   "source": []
  }
 ],
 "metadata": {
  "kernelspec": {
   "display_name": "Julia 1.2.0",
   "language": "julia",
   "name": "julia-1.2"
  },
  "language_info": {
   "file_extension": ".jl",
   "mimetype": "application/julia",
   "name": "julia",
   "version": "1.2.0"
  }
 },
 "nbformat": 4,
 "nbformat_minor": 2
}
