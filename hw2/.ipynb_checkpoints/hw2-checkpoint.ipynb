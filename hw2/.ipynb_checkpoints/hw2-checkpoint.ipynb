{
 "cells": [
  {
   "cell_type": "markdown",
   "metadata": {},
   "source": [
    "# Biostat 257 HW2\n",
    "## Caesar Z. Li\n",
    "## UID: 704135662\n",
    "\n",
    "\n",
    "## Question 1\n",
    "Write down the log-likelihood of the $i$ -th datum, with $(\\boldsymbol{y}_i, \\boldsymbol{X}_i, \\boldsymbol{Z}_i)$, given parameters, $(\\boldsymbol{\\beta}, \\boldsymbol{\\Sigma}, \\sigma)$.    \n",
    "<br/>\n",
    "Answer: the marginal distribution of a linear mixed effect model is given by,\n",
    "$$\n",
    "\\boldsymbol{y}_i \\sim N(\\boldsymbol{X}_i \\boldsymbol{\\beta}, \\boldsymbol{Z}_i\\boldsymbol{\\Sigma}\\boldsymbol{Z}^{T}_i + \\sigma^2\\boldsymbol{I}) \n",
    "$$\n",
    "\n",
    "Thus the marginal likelihood is given by,\n",
    "$$\n",
    "-\\frac{n_i}{2}log(2\\pi)-\\frac{1}{2}log(|\\boldsymbol{D}|)-\\frac{1}{2}(\\boldsymbol{y}_i - \\boldsymbol{X}_i \\boldsymbol{\\beta})^{T}\\boldsymbol{D}^{-1}(\\boldsymbol{y}_i - \\boldsymbol{X}_i \\boldsymbol{\\beta})\n",
    "$$\n",
    "\n",
    ", where $\\boldsymbol{D} = \\boldsymbol{Z}_i\\boldsymbol{\\Sigma}\\boldsymbol{Z}^{T}_i + \\sigma^2\\boldsymbol{I}_n$\n",
    "\n",
    "Before we move on, we can make the computing more efficient by utilizing Woodbury formula on $\\boldsymbol{D}$:\n",
    "\n",
    "$$\n",
    "\\boldsymbol{D}^{-1} = \\frac{1}{\\sigma^2}\\boldsymbol{I}^{-1} - \\frac{1}{\\sigma^2}\\boldsymbol{I}^{-1}\\boldsymbol{Z}_i(\\boldsymbol{\\Sigma}^{-1} + \\frac{1}{\\sigma^2}\\boldsymbol{Z}^{T}_i\\boldsymbol{I}^{-1}\\boldsymbol{Z}_i)^{-1}\\boldsymbol{Z}^{T}_i\\frac{1}{\\sigma^2}\\boldsymbol{I}^{-1}\n",
    "$$\n",
    "\n",
    "$$\n",
    "= \\frac{1}{\\sigma^2}\\boldsymbol{I} - \\frac{1}{\\sigma^4}\\boldsymbol{Z}_i(\\boldsymbol{\\Sigma}^{-1} + \\frac{1}{\\sigma^2}\\boldsymbol{Z}^{T}_i\\boldsymbol{Z}_i)^{-1}\\boldsymbol{Z}^{T}_i\n",
    "$$\n",
    "\n",
    "\n",
    "$$\n",
    "= \\frac{1}{\\sigma^2}[\\boldsymbol{I} - \\boldsymbol{Z}_i(\\sigma^2\\boldsymbol{\\Sigma}^{-1} + \\boldsymbol{Z}^{T}_i\\boldsymbol{Z}_i)^{-1}\\boldsymbol{Z}^{T}_i]\n",
    "$$"
   ]
  },
  {
   "cell_type": "markdown",
   "metadata": {},
   "source": [
    "Note that later in the function optimization part I will also use the determinant identity from homework1.\n",
    "\n",
    "$$\n",
    "\\det(\\boldsymbol{D}^{-1}) = \\det(\\boldsymbol{Z}_i\\boldsymbol{\\Sigma}\\boldsymbol{Z}^{T}_i + \\sigma^2\\boldsymbol{I})\n",
    "$$\n",
    "\n",
    "$$\n",
    "= \\det(\\sigma^2\\boldsymbol{I}) \\det(\\boldsymbol{I}_q + \\boldsymbol{L}^{T}\\boldsymbol{Z}^{T}_i\\boldsymbol{Z}_i\\boldsymbol{L})\n",
    "$$\n",
    "\n",
    "$$\n",
    "= (\\sigma^2)^n \\det(\\boldsymbol{I}_q + \\boldsymbol{L}^{T}\\boldsymbol{Z}^{T}_i\\boldsymbol{Z}_i\\boldsymbol{L})\n",
    "$$\n",
    "<br/>\n",
    ", where $\\boldsymbol{L}$ is the lower triangular matrix from Cholesky Decomposition for $\\boldsymbol{\\Sigma}$."
   ]
  },
  {
   "cell_type": "markdown",
   "metadata": {},
   "source": [
    "## Question 2 Start-up Code\n",
    "\n"
   ]
  },
  {
   "cell_type": "code",
   "execution_count": 1,
   "metadata": {},
   "outputs": [
    {
     "data": {
      "text/plain": [
       "LmmObs"
      ]
     },
     "execution_count": 1,
     "metadata": {},
     "output_type": "execute_result"
    }
   ],
   "source": [
    "# define a type that holds LMM datum\n",
    "struct LmmObs{T <: AbstractFloat}\n",
    "    # data\n",
    "    y :: Vector{T}\n",
    "    X :: Matrix{T}\n",
    "    Z :: Matrix{T}\n",
    "    # working arrays\n",
    "    # whatever intermediate arrays you may want to pre-allocate\n",
    "    res        :: Vector{T}\n",
    "    storage_q  :: Vector{T}\n",
    "    ztz        :: Matrix{T}\n",
    "    storage_qq :: Matrix{T}\n",
    "end\n",
    "\n",
    "# constructor\n",
    "function LmmObs(\n",
    "        y::Vector{T}, \n",
    "        X::Matrix{T}, \n",
    "        Z::Matrix{T}) where T <: AbstractFloat\n",
    "    res        = similar(y)\n",
    "    storage_q  = Vector{T}(undef, size(Z, 2))\n",
    "    ztz        = transpose(Z) * Z\n",
    "    storage_qq = similar(ztz)\n",
    "    LmmObs(y, X, Z, res, storage_q, ztz, storage_qq)\n",
    "end"
   ]
  },
  {
   "cell_type": "code",
   "execution_count": 39,
   "metadata": {},
   "outputs": [
    {
     "data": {
      "text/plain": [
       "logl! (generic function with 1 method)"
      ]
     },
     "execution_count": 39,
     "metadata": {},
     "output_type": "execute_result"
    }
   ],
   "source": [
    "function logl!(\n",
    "        obs :: LmmObs{T}, \n",
    "        β   :: Vector{T}, \n",
    "        L   :: Matrix{T}, \n",
    "        σ²  :: T) where T <: AbstractFloat\n",
    "    n, p, q = size(obs.X, 1), size(obs.X, 2), size(obs.Z, 2)    \n",
    "    # TODO: compute and return the log-likelihood\n",
    "    #obs.storage_qq .= I + transpose(L) * obs.ztz * L / σ²\n",
    "    #obs.storage_qq .= Matrix(I, q, q)\n",
    "    \n",
    "    BLAS.gemm!('T', 'N', 1 / σ², L, obs.ztz, 0.0, obs.storage_qq)\n",
    "    BLAS.trmm!('R', 'L', 'N', 'N', 1.0, L, obs.storage_qq)\n",
    "    for i = 1:q\n",
    "        obs.storage_qq[i, i] += 1\n",
    "    end\n",
    "    \n",
    "    dtmt = logdet(cholesky!(Symmetric(obs.storage_qq)))\n",
    "    \n",
    "    BLAS.gemm!('N', 'T', 1.0, L, L, 0.0, obs.storage_qq)\n",
    "    obs.storage_qq .= inv(cholesky!(obs.storage_qq)) * σ² + obs.ztz\n",
    "    obs.res .= y\n",
    "    BLAS.gemv!('N', -1.0, obs.X, β, 1.0, obs.res)\n",
    "    BLAS.gemm!('T', 'N', 1.0, obs.Z, obs.res, 0.0, obs.storage_q)\n",
    "    sig_inv = 1 / σ²\n",
    "    \n",
    "    return -(n//2) * log(2π) - (1//2) * (n * log(σ²) + dtmt) -\n",
    "        (1//2) * sig_inv * (dot(obs.res, obs.res) - \n",
    "        dot(obs.storage_q, cholesky!(Symmetric(obs.storage_qq)) \\ obs.storage_q))\n",
    "    \n",
    "    #sleep(1e-3) # wait 1 ms as if your code takes 1ms\n",
    "    #return 0.0\n",
    "end"
   ]
  },
  {
   "cell_type": "markdown",
   "metadata": {},
   "source": [
    "## Question 3 Correctness (15 pts)"
   ]
  },
  {
   "cell_type": "code",
   "execution_count": 30,
   "metadata": {},
   "outputs": [
    {
     "data": {
      "text/plain": [
       "LmmObs{Float64}([5.739048710854997, 5.705395720270055, 2.7368899643050355, 1.4201223592870758, -0.2099433929180451, 3.5886971824690486, -1.3778538474575956, -0.08406026821055201, -2.208007878450787, 1.309558511583542  …  1.2947876180172686, -1.970126530439509, -2.040383092851745, -1.459029682565868, 0.18616271231054726, 1.0681247149968018, 2.2292080864625254, 1.195238535460355, 1.1310626949609706, -0.43507816286713696], [1.0 -2.506566300781151 … 0.5863780184080776 1.1092991040518192; 1.0 -0.974090320735282 … 1.4143507320583761 0.45608259198567447; … ; 1.0 -1.0076371084863895 … -1.3241972696483915 1.4547609424344008; 1.0 0.38036793320364776 … -0.5857507269707397 1.796804266836504], [1.0 -0.6380567326757537 1.4738982136806946; 1.0 -2.0711110232845926 0.21422658785510312; … ; 1.0 0.5917731507133951 -0.9163364468263059; 1.0 0.9463732120394507 -0.325860403600768], [8.0e-323, 8.4e-323, 9.0e-323, 9.4e-323, 1.0e-322, 1.04e-322, 1.1e-322, 1.14e-322, 1.2e-322, 1.24e-322  …  3.26e-322, 3.3e-322, 3.36e-322, 3.4e-322, 3.46e-322, 3.5e-322, 3.56e-322, 3.6e-322, 3.66e-322, 3.7e-322], [2.34549507059096e-310, 2.34549507029847e-310, 2.3454950705862e-310], [2000.0 -11.20358568858784 -23.356385339139617; -11.20358568858784 1972.7426082447307 27.303296982632183; -23.356385339139617 27.303296982632183 2034.203494486357], [1.14e-322 1.24e-322 1.3e-322; 4.4e-323 5.0e-323 5.4e-323; 2.3454947360105e-310 2.3454947360105e-310 2.34549473601055e-310])"
      ]
     },
     "execution_count": 30,
     "metadata": {},
     "output_type": "execute_result"
    }
   ],
   "source": [
    "using BenchmarkTools, Distributions, LinearAlgebra, Random\n",
    "\n",
    "Random.seed!(257)\n",
    "# dimension\n",
    "n, p, q = 2000, 5, 3\n",
    "# predictors\n",
    "X  = [ones(n) randn(n, p - 1)]\n",
    "Z  = [ones(n) randn(n, q - 1)]\n",
    "# parameter values\n",
    "β  = [2.0; -1.0; rand(p - 2)]\n",
    "σ² = 1.5\n",
    "Σ  = fill(0.1, q, q) + 0.9I\n",
    "# generate y\n",
    "y  = X * β + Z * rand(MvNormal(Σ)) + sqrt(σ²) * randn(n)\n",
    "\n",
    "# form an LmmObs object\n",
    "obs = LmmObs(y, X, Z)"
   ]
  },
  {
   "cell_type": "code",
   "execution_count": 40,
   "metadata": {},
   "outputs": [
    {
     "data": {
      "text/plain": [
       "-3247.456858063827"
      ]
     },
     "execution_count": 40,
     "metadata": {},
     "output_type": "execute_result"
    }
   ],
   "source": [
    "μ  = X * β\n",
    "Ω  = Z * Σ * transpose(Z) +  σ² * I\n",
    "mvn = MvNormal(μ, Symmetric(Ω)) # MVN(μ, Σ)\n",
    "logpdf(mvn, y)"
   ]
  },
  {
   "cell_type": "markdown",
   "metadata": {},
   "source": [
    "Now check my answers with the answer from standard package above:"
   ]
  },
  {
   "cell_type": "code",
   "execution_count": 41,
   "metadata": {},
   "outputs": [
    {
     "data": {
      "text/plain": [
       "-3247.456858063825"
      ]
     },
     "execution_count": 41,
     "metadata": {},
     "output_type": "execute_result"
    }
   ],
   "source": [
    "L = Matrix(cholesky(Σ).L)\n",
    "logl!(obs, β, L, σ²)"
   ]
  },
  {
   "cell_type": "code",
   "execution_count": 42,
   "metadata": {},
   "outputs": [],
   "source": [
    "@assert logl!(obs, β, Matrix(cholesky(Σ).L), σ²) ≈ logpdf(mvn, y)"
   ]
  },
  {
   "cell_type": "markdown",
   "metadata": {},
   "source": [
    "## Question 4 Efficiency (30 pts)\n",
    "<br/>\n",
    "\n",
    "Benchmarking your code and compare to the Distributions.jl function `logpdf`."
   ]
  },
  {
   "cell_type": "code",
   "execution_count": 6,
   "metadata": {},
   "outputs": [
    {
     "data": {
      "text/plain": [
       "BenchmarkTools.Trial: \n",
       "  memory estimate:  30.55 MiB\n",
       "  allocs estimate:  4\n",
       "  --------------\n",
       "  minimum time:     57.799 ms (4.07% GC)\n",
       "  median time:      69.587 ms (2.03% GC)\n",
       "  mean time:        69.070 ms (6.87% GC)\n",
       "  maximum time:     232.618 ms (70.73% GC)\n",
       "  --------------\n",
       "  samples:          73\n",
       "  evals/sample:     1"
      ]
     },
     "execution_count": 6,
     "metadata": {},
     "output_type": "execute_result"
    }
   ],
   "source": [
    "# benchmark the `logpdf` function in Distribution.jl\n",
    "bm1 = @benchmark logpdf($mvn, $y)"
   ]
  },
  {
   "cell_type": "code",
   "execution_count": 43,
   "metadata": {},
   "outputs": [
    {
     "data": {
      "text/plain": [
       "BenchmarkTools.Trial: \n",
       "  memory estimate:  992 bytes\n",
       "  allocs estimate:  19\n",
       "  --------------\n",
       "  minimum time:     41.053 μs (0.00% GC)\n",
       "  median time:      47.407 μs (0.00% GC)\n",
       "  mean time:        48.125 μs (0.00% GC)\n",
       "  maximum time:     344.959 μs (0.00% GC)\n",
       "  --------------\n",
       "  samples:          10000\n",
       "  evals/sample:     1"
      ]
     },
     "execution_count": 43,
     "metadata": {},
     "output_type": "execute_result"
    }
   ],
   "source": [
    "# benchmark your implementation\n",
    "L = Matrix(cholesky(Σ).L)\n",
    "bm2 = @benchmark logl!($obs, $β, $L, $σ²)"
   ]
  },
  {
   "cell_type": "code",
   "execution_count": 44,
   "metadata": {},
   "outputs": [
    {
     "data": {
      "text/plain": [
       "30.0"
      ]
     },
     "execution_count": 44,
     "metadata": {},
     "output_type": "execute_result"
    }
   ],
   "source": [
    "# this is the points you'll get \n",
    "clamp(median(bm1).time / median(bm2).time / 1000 * 30, 0, 30)"
   ]
  },
  {
   "cell_type": "markdown",
   "metadata": {},
   "source": [
    "## Question 5 Memory (30 pts)\n",
    "<br/>\n",
    "You want to avoid memory allocation in the \"hot\" function `logl!`. You will lose 1 point for each `1 KiB = 1024` bytes memory allocation. In other words, the points you get for this question is"
   ]
  },
  {
   "cell_type": "code",
   "execution_count": 45,
   "metadata": {},
   "outputs": [
    {
     "data": {
      "text/plain": [
       "29.03125"
      ]
     },
     "execution_count": 45,
     "metadata": {},
     "output_type": "execute_result"
    }
   ],
   "source": [
    "clamp(30 - median(bm2).memory / 1024, 0, 30)"
   ]
  },
  {
   "cell_type": "markdown",
   "metadata": {},
   "source": [
    "## Quewtion 6 Misc (15 pts)"
   ]
  },
  {
   "cell_type": "markdown",
   "metadata": {},
   "source": [
    "Let me know if you had any issues running my code. It runs perfectly here on the cluster."
   ]
  }
 ],
 "metadata": {
  "kernelspec": {
   "display_name": "Julia 1.2.0",
   "language": "julia",
   "name": "julia-1.2"
  },
  "language_info": {
   "file_extension": ".jl",
   "mimetype": "application/julia",
   "name": "julia",
   "version": "1.2.0"
  }
 },
 "nbformat": 4,
 "nbformat_minor": 2
}
