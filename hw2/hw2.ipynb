{
 "cells": [
  {
   "cell_type": "markdown",
   "metadata": {},
   "source": [
    "# Biostat 257 HW2\n",
    "## Caesar Z. Li\n",
    "## UID: 704135662\n",
    "\n",
    "\n",
    "## Question 1\n",
    "Write down the log-likelihood of the $i$ -th datum, with $(\\boldsymbol{y}_i, \\boldsymbol{X}_i, \\boldsymbol{Z}_i)$, given parameters, $(\\boldsymbol{\\beta}, \\boldsymbol{\\Sigma}, \\sigma)$.    \n",
    "<br/>\n",
    "Answer: the marginal distribution of a linear mixed effect model is given by,\n",
    "$$\n",
    "\\boldsymbol{y}_i \\sim N(\\boldsymbol{X}_i \\boldsymbol{\\beta}, \\boldsymbol{Z}_i\\boldsymbol{\\Sigma}\\boldsymbol{Z}^{T}_i + \\sigma^2\\boldsymbol{I}) \n",
    "$$\n",
    "\n",
    "Thus the marginal likelihood is given by,\n",
    "$$\n",
    "-\\frac{n_i}{2}log(2\\pi)-\\frac{1}{2}log(|\\boldsymbol{D}|)-\\frac{1}{2}(\\boldsymbol{y}_i - \\boldsymbol{X}_i \\boldsymbol{\\beta})^{T}\\boldsymbol{D}^{-1}(\\boldsymbol{y}_i - \\boldsymbol{X}_i \\boldsymbol{\\beta})\n",
    "$$\n",
    "\n",
    ", where $\\boldsymbol{D} = \\boldsymbol{Z}_i\\boldsymbol{\\Sigma}\\boldsymbol{Z}^{T}_i + \\sigma^2\\boldsymbol{I}$\n",
    "\n"
   ]
  },
  {
   "cell_type": "markdown",
   "metadata": {},
   "source": [
    "## Question 2 Start-up Code\n",
    "\n"
   ]
  },
  {
   "cell_type": "code",
   "execution_count": 8,
   "metadata": {},
   "outputs": [
    {
     "data": {
      "text/plain": [
       "LmmObs"
      ]
     },
     "execution_count": 8,
     "metadata": {},
     "output_type": "execute_result"
    }
   ],
   "source": [
    "# define a type that holds LMM datum\n",
    "struct LmmObs{T <: AbstractFloat}\n",
    "    # data\n",
    "    y :: Vector{T}\n",
    "    X :: Matrix{T}\n",
    "    Z :: Matrix{T}\n",
    "    # working arrays\n",
    "    # whatever intermediate arrays you may want to pre-allocate\n",
    "    res        :: Vector{T}\n",
    "    storage_q  :: Vector{T}\n",
    "    ztz        :: Matrix{T}\n",
    "    storage_qq :: Matrix{T}\n",
    "end\n",
    "\n",
    "# constructor\n",
    "function LmmObs(\n",
    "        y::Vector{T}, \n",
    "        X::Matrix{T}, \n",
    "        Z::Matrix{T}) where T <: AbstractFloat\n",
    "    res        = similar(y)\n",
    "    storage_q  = Vector{T}(undef, size(Z, 2))\n",
    "    ztz        = transpose(Z) * Z\n",
    "    storage_qq = similar(ztz)\n",
    "    LmmObs(y, X, Z, res, storage_q, ztz, storage_qq)\n",
    "end"
   ]
  },
  {
   "cell_type": "code",
   "execution_count": 215,
   "metadata": {},
   "outputs": [
    {
     "data": {
      "text/plain": [
       "logl! (generic function with 2 methods)"
      ]
     },
     "execution_count": 215,
     "metadata": {},
     "output_type": "execute_result"
    }
   ],
   "source": [
    "function logl!(\n",
    "        obs :: LmmObs{T}, \n",
    "        β   :: Vector{T}, \n",
    "        L   :: Matrix{T}, \n",
    "        σ²  :: T) where T <: AbstractFloat\n",
    "    n, p, q = size(obs.X, 1), size(obs.X, 2), size(obs.Z, 2)    \n",
    "    # TODO: compute and return the log-likelihood\n",
    "    obs.storage_qq .= I + transpose(L) * obs.ztz * L / σ²\n",
    "    #obs.storage_qq = \n",
    "    obs.res .= y - obs.X * β\n",
    "    \n",
    "    return -(n//2) * log(2π) - (1//2) * (n * log(σ²) + logdet(obs.storage_qq)) -\n",
    "        (1//2) * transpose(obs.res) * ((1 / σ²) * I - (1 / σ²^2) * obs.Z * inv(inv(L * transpose(L)) + obs.ztz / σ²) * transpose(obs.Z)) * obs.res\n",
    "    \n",
    "    #sleep(1e-3) # wait 1 ms as if your code takes 1ms\n",
    "    #return 0.0\n",
    "end"
   ]
  },
  {
   "cell_type": "code",
   "execution_count": 219,
   "metadata": {},
   "outputs": [
    {
     "data": {
      "text/plain": [
       "logl! (generic function with 2 methods)"
      ]
     },
     "execution_count": 219,
     "metadata": {},
     "output_type": "execute_result"
    }
   ],
   "source": [
    "function logl!(\n",
    "        obs :: LmmObs{T}, \n",
    "        β   :: Vector{T}, \n",
    "        L   :: Matrix{T}, \n",
    "        σ²  :: T) where T <: AbstractFloat\n",
    "    n, p, q = size(obs.X, 1), size(obs.X, 2), size(obs.Z, 2)    \n",
    "    # TODO: compute and return the log-likelihood\n",
    "    obs.storage_qq .= I + transpose(L) * obs.ztz * L / σ²\n",
    "    dtmt = logdet(obs.storage_qq)\n",
    "    obs.storage_qq .= inv(L * transpose(L)) + obs.ztz / σ²\n",
    "    obs.res .= y - obs.X * β\n",
    "    obs.storage_q .= transpose(obs.Z) * obs.res\n",
    "    \n",
    "    return -(n//2) * log(2π) - (1//2) * (n * log(σ²) + dtmt) -\n",
    "        (1//2) * (dot(obs.res, obs.res) * (1 / σ²) - (1 / σ²^2) * dot(obs.storage_q, obs.storage_qq \\ obs.storage_q))\n",
    "    \n",
    "    #sleep(1e-3) # wait 1 ms as if your code takes 1ms\n",
    "    #return 0.0\n",
    "end"
   ]
  },
  {
   "cell_type": "markdown",
   "metadata": {},
   "source": [
    "## Question 3 Correctness (15 pts)"
   ]
  },
  {
   "cell_type": "code",
   "execution_count": 9,
   "metadata": {},
   "outputs": [
    {
     "name": "stderr",
     "output_type": "stream",
     "text": [
      "┌ Info: Precompiling BenchmarkTools [6e4b80f9-dd63-53aa-95a3-0cdb28fa8baf]\n",
      "└ @ Base loading.jl:1242\n",
      "┌ Info: Recompiling stale cache file /u/home/c/caeserio/.julia/compiled/v1.2/Distributions/xILW0.ji for Distributions [31c24e10-a181-5473-b8eb-7969acd0382f]\n",
      "└ @ Base loading.jl:1240\n"
     ]
    },
    {
     "data": {
      "text/plain": [
       "LmmObs{Float64}([5.739048710854997, 5.705395720270055, 2.7368899643050355, 1.4201223592870755, -0.2099433929180451, 3.5886971824690486, -1.3778538474575956, -0.08406026821055246, -2.208007878450787, 1.309558511583542  …  1.294787618017269, -1.9701265304395086, -2.040383092851745, -1.4590296825658675, 0.18616271231054726, 1.0681247149968018, 2.2292080864625254, 1.195238535460355, 1.1310626949609701, -0.43507816286713785], [1.0 -2.506566300781151 … 0.5863780184080776 1.1092991040518192; 1.0 -0.974090320735282 … 1.4143507320583761 0.45608259198567447; … ; 1.0 -1.0076371084863895 … -1.3241972696483915 1.4547609424344008; 1.0 0.38036793320364776 … -0.5857507269707397 1.796804266836504], [1.0 -0.6380567326757537 1.4738982136806946; 1.0 -2.0711110232845926 0.21422658785510312; … ; 1.0 0.5917731507133951 -0.9163364468263059; 1.0 0.9463732120394507 -0.325860403600768], [2.4996631e-316, 2.56859986e-316, 2.36931196e-316, 2.7970985e-316, NaN, 2.58664156e-316, 2.797557e-316, 2.7971072e-316, NaN, 2.58664156e-316  …  NaN, 0.0, NaN, 0.0, NaN, 9.427e-321, NaN, 0.0, NaN, 6.91e-321], [5.0e-324, 5.0e-324, 2.33685964553897e-310], [2000.0 -11.203585688587815 -23.356385339139585; -11.203585688587815 1972.7426082447307 27.30329698263217; -23.356385339139585 27.30329698263217 2034.2034944863567], [2.3368661897451e-310 2.3368662025845e-310 2.336866209903e-310; 2.3368661897783e-310 2.3368662026343e-310 2.3368662099251e-310; 2.3368662018928e-310 2.33686620263983e-310 2.33686620995833e-310])"
      ]
     },
     "execution_count": 9,
     "metadata": {},
     "output_type": "execute_result"
    }
   ],
   "source": [
    "using BenchmarkTools, Distributions, LinearAlgebra, Random\n",
    "\n",
    "Random.seed!(257)\n",
    "# dimension\n",
    "n, p, q = 2000, 5, 3\n",
    "# predictors\n",
    "X  = [ones(n) randn(n, p - 1)]\n",
    "Z  = [ones(n) randn(n, q - 1)]\n",
    "# parameter values\n",
    "β  = [2.0; -1.0; rand(p - 2)]\n",
    "σ² = 1.5\n",
    "Σ  = fill(0.1, q, q) + 0.9I\n",
    "# generate y\n",
    "y  = X * β + Z * rand(MvNormal(Σ)) + sqrt(σ²) * randn(n)\n",
    "\n",
    "# form an LmmObs object\n",
    "obs = LmmObs(y, X, Z)"
   ]
  },
  {
   "cell_type": "code",
   "execution_count": 17,
   "metadata": {},
   "outputs": [
    {
     "data": {
      "text/plain": [
       "-3247.456858063827"
      ]
     },
     "execution_count": 17,
     "metadata": {},
     "output_type": "execute_result"
    }
   ],
   "source": [
    "μ  = X * β\n",
    "Ω  = Z * Σ * transpose(Z) +  σ² * I\n",
    "mvn = MvNormal(μ, Symmetric(Ω)) # MVN(μ, Σ)\n",
    "logpdf(mvn, y)"
   ]
  },
  {
   "cell_type": "markdown",
   "metadata": {},
   "source": [
    "Now check my answers with the answer from standard package above:"
   ]
  },
  {
   "cell_type": "code",
   "execution_count": 220,
   "metadata": {},
   "outputs": [
    {
     "data": {
      "text/plain": [
       "-3247.4568580638243"
      ]
     },
     "execution_count": 220,
     "metadata": {},
     "output_type": "execute_result"
    }
   ],
   "source": [
    "L = Matrix(cholesky(Σ).L)\n",
    "logl!(obs, β, L, σ²)"
   ]
  },
  {
   "cell_type": "code",
   "execution_count": 221,
   "metadata": {},
   "outputs": [],
   "source": [
    "@assert logl!(obs, β, Matrix(cholesky(Σ).L), σ²) ≈ logpdf(mvn, y)"
   ]
  },
  {
   "cell_type": "markdown",
   "metadata": {},
   "source": [
    "## Question 4 Efficiency \n",
    "<br/>\n",
    "\n",
    "Benchmarking your code and compare to the Distributions.jl function `logpdf`."
   ]
  },
  {
   "cell_type": "code",
   "execution_count": 111,
   "metadata": {},
   "outputs": [
    {
     "data": {
      "text/plain": [
       "BenchmarkTools.Trial: \n",
       "  memory estimate:  30.55 MiB\n",
       "  allocs estimate:  4\n",
       "  --------------\n",
       "  minimum time:     42.359 ms (1.07% GC)\n",
       "  median time:      43.844 ms (2.97% GC)\n",
       "  mean time:        46.699 ms (2.78% GC)\n",
       "  maximum time:     50.171 ms (2.55% GC)\n",
       "  --------------\n",
       "  samples:          107\n",
       "  evals/sample:     1"
      ]
     },
     "execution_count": 111,
     "metadata": {},
     "output_type": "execute_result"
    }
   ],
   "source": [
    "# benchmark the `logpdf` function in Distribution.jl\n",
    "bm1 = @benchmark logpdf($mvn, $y)"
   ]
  },
  {
   "cell_type": "code",
   "execution_count": 222,
   "metadata": {},
   "outputs": [
    {
     "data": {
      "text/plain": [
       "BenchmarkTools.Trial: \n",
       "  memory estimate:  35.42 KiB\n",
       "  allocs estimate:  24\n",
       "  --------------\n",
       "  minimum time:     32.243 μs (0.00% GC)\n",
       "  median time:      39.740 μs (0.00% GC)\n",
       "  mean time:        62.655 μs (7.12% GC)\n",
       "  maximum time:     4.637 ms (0.00% GC)\n",
       "  --------------\n",
       "  samples:          10000\n",
       "  evals/sample:     1"
      ]
     },
     "execution_count": 222,
     "metadata": {},
     "output_type": "execute_result"
    }
   ],
   "source": [
    "# benchmark your implementation\n",
    "L = Matrix(cholesky(Σ).L)\n",
    "bm2 = @benchmark logl!($obs, $β, $L, $σ²)"
   ]
  },
  {
   "cell_type": "code",
   "execution_count": 224,
   "metadata": {},
   "outputs": [
    {
     "data": {
      "text/plain": [
       "30.0"
      ]
     },
     "execution_count": 224,
     "metadata": {},
     "output_type": "execute_result"
    }
   ],
   "source": [
    "# this is the points you'll get\n",
    "clamp(median(bm1).time / median(bm2).time / 1000 * 30, 0, 30)"
   ]
  },
  {
   "cell_type": "code",
   "execution_count": 22,
   "metadata": {},
   "outputs": [
    {
     "data": {
      "text/plain": [
       "16-element Array{Symbol,1}:\n",
       " :Dchol \n",
       " :LmmObs\n",
       " :Main  \n",
       " :X     \n",
       " :Z     \n",
       " :mvn   \n",
       " :n     \n",
       " :obs   \n",
       " :p     \n",
       " :q     \n",
       " :y     \n",
       " :Σ     \n",
       " :Ω     \n",
       " :β     \n",
       " :μ     \n",
       " :σ²    "
      ]
     },
     "execution_count": 22,
     "metadata": {},
     "output_type": "execute_result"
    }
   ],
   "source": [
    "names(Main)[4:end]"
   ]
  },
  {
   "cell_type": "code",
   "execution_count": 186,
   "metadata": {},
   "outputs": [
    {
     "data": {
      "text/plain": [
       "0.03"
      ]
     },
     "execution_count": 186,
     "metadata": {},
     "output_type": "execute_result"
    }
   ],
   "source": []
  },
  {
   "cell_type": "code",
   "execution_count": 180,
   "metadata": {},
   "outputs": [
    {
     "data": {
      "text/plain": [
       "-2831.2102069941466"
      ]
     },
     "execution_count": 180,
     "metadata": {},
     "output_type": "execute_result"
    }
   ],
   "source": [
    "a = obs.Z * L * transpose(L) * transpose(obs.Z) + σ² * I\n",
    "b = cholesky(Symmetric(a))\n",
    "c = y - obs.X * β\n",
    "-(n//2) * log(2π) - (1//2) * (dot(c, b \\ c))"
   ]
  },
  {
   "cell_type": "code",
   "execution_count": 188,
   "metadata": {},
   "outputs": [
    {
     "data": {
      "text/plain": [
       "416.85484873184157"
      ]
     },
     "execution_count": 188,
     "metadata": {},
     "output_type": "execute_result"
    }
   ],
   "source": [
    "(1//2) * (n * log(σ²) + logdet(σ² * I + transpose(L) * obs.ztz * L))"
   ]
  },
  {
   "cell_type": "code",
   "execution_count": 189,
   "metadata": {},
   "outputs": [
    {
     "data": {
      "text/plain": [
       "-10986.421139444486"
      ]
     },
     "execution_count": 189,
     "metadata": {},
     "output_type": "execute_result"
    }
   ],
   "source": [
    "-(n//2) * log(2π) - (1//2) * n * log(σ²) * (1 + logdet(I + transpose(L) * obs.ztz * L / σ²))"
   ]
  },
  {
   "cell_type": "code",
   "execution_count": 203,
   "metadata": {},
   "outputs": [
    {
     "data": {
      "text/plain": [
       "3×3 Array{Float64,2}:\n",
       " 1356.8     136.259   120.75 \n",
       "  136.259  1317.38    139.492\n",
       "  120.75    139.492  1332.48 "
      ]
     },
     "execution_count": 203,
     "metadata": {},
     "output_type": "execute_result"
    }
   ],
   "source": [
    "I + transpose(L) * obs.ztz * L / σ²"
   ]
  }
 ],
 "metadata": {
  "kernelspec": {
   "display_name": "Julia 1.2.0",
   "language": "julia",
   "name": "julia-1.2"
  },
  "language_info": {
   "file_extension": ".jl",
   "mimetype": "application/julia",
   "name": "julia",
   "version": "1.2.0"
  }
 },
 "nbformat": 4,
 "nbformat_minor": 2
}
