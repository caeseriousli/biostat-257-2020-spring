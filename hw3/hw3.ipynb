{
 "cells": [
  {
   "cell_type": "markdown",
   "metadata": {},
   "source": [
    "# Biostat 257 HW2\n",
    "## Caesar Z. Li\n",
    "## UID: 704135662\n",
    "\n",
    "## Question1 (5 pts) Recognize structure"
   ]
  },
  {
   "cell_type": "markdown",
   "metadata": {},
   "source": [
    "From the construction of the model, we have:\n",
    "$$\n",
    "\\boldsymbol{P}_{ij}=\\begin{cases}\n",
    "    \\frac{p}{\\sum_j a_{ij}}+\\frac{1-p}{n}, & \\text{if $r_{i}\\ne0$ and $a_{ij}\\ne0$}.\\\\\n",
    "    \\frac{1-p}{n}, & \\text{if $r_{i}\\ne0$ and $a_{ij}=0$}. \\\\\n",
    "    \\frac{1}{n}, & \\text{if $r_{i}=0$}.\n",
    "  \\end{cases}\n",
    "$$\n",
    "Note that every element in this matrix has the term $\\frac{1}{n}$ no matter what, and is otherwise a sparse matrix. Thus we can write it as the sum of a sparse matrix and a rank 1 matrix with every single term equal to $\\frac{1}{n}$ (it is of rank one because all elements are equal):    \n",
    "$$\n",
    "\\boldsymbol{P}=p\\boldsymbol{B} \\boldsymbol{A} + \\frac{\\boldsymbol{c}\\boldsymbol{1}^T_n}{n},\n",
    "$$     \n",
    "where $\\boldsymbol{B}$ is a diagonal matrix with $i$-th diagonal term equal to $\\frac{1}{\\sum_j a_{1j}}$ if $r_{i}\\ne0$, or $0$ if $r_{i}=0$, i.e.,    \n",
    "$$\n",
    "\\boldsymbol{B} = diag(\\frac{1}{\\sum_j a_{1j}}or 0 \\;\\; \\frac{1}{\\sum_j a_{2j}}or0 \\;\\; \\dots \\;\\; \\frac{1}{\\sum_j a_{nj}}or0)\n",
    "$$\n",
    "<br/>\n",
    "and $\\boldsymbol{c}$ is an indicator vector indicating the rows that are not dangling nodes,\n",
    "$$\n",
    "\\boldsymbol{c}_{ij}=\\begin{cases}\n",
    "    \\frac{1-p}{n}, & \\text{if $r_{i}\\ne0$ and $a_{ij}\\ne0$}.\\\\\n",
    "    \\frac{1}{n}, & \\text{if $r_{i}=0$}.\n",
    "  \\end{cases}\n",
    "$$"
   ]
  },
  {
   "cell_type": "markdown",
   "metadata": {},
   "source": [
    "## Q3. (10 pts) Explore data"
   ]
  },
  {
   "cell_type": "code",
   "execution_count": 1,
   "metadata": {},
   "outputs": [
    {
     "name": "stdout",
     "output_type": "stream",
     "text": [
      "include group.jl for user defined matrix generators\n",
      "verify download of index files...\n",
      "used remote site is https://sparse.tamu.edu/?per_page=All\n",
      "populating internal database...\n"
     ]
    },
    {
     "data": {
      "text/latex": [
       "\\section{SNAP/web-Google}\n",
       "\\subsubparagraph{MatrixMarket matrix coordinate pattern general}\n",
       "\\rule{\\textwidth}{1pt}\n",
       "\\begin{itemize}\n",
       "\\item UF Sparse Matrix Collection, Tim Davis\n",
       "\n",
       "\n",
       "\\item http://www.cise.ufl.edu/research/sparse/matrices/SNAP/web-Google\n",
       "\n",
       "\n",
       "\\item name: SNAP/web-Google\n",
       "\n",
       "\n",
       "\\item [Web graph from Google]\n",
       "\n",
       "\n",
       "\\item id: 2301\n",
       "\n",
       "\n",
       "\\item date: 2002\n",
       "\n",
       "\n",
       "\\item author: Google\n",
       "\n",
       "\n",
       "\\item ed: J. Leskovec\n",
       "\n",
       "\n",
       "\\item fields: name title A id date author ed kind notes\n",
       "\n",
       "\n",
       "\\item kind: directed graph\n",
       "\n",
       "\\end{itemize}\n",
       "\\rule{\\textwidth}{1pt}\n",
       "\\begin{itemize}\n",
       "\\item notes:\n",
       "\n",
       "\n",
       "\\item Networks from SNAP (Stanford Network Analysis Platform) Network Data Sets,     \n",
       "\n",
       "\n",
       "\\item Jure Leskovec http://snap.stanford.edu/data/index.html                         \n",
       "\n",
       "\n",
       "\\item email jure at cs.stanford.edu                                                  \n",
       "\n",
       "\n",
       "\\item \n",
       "\\item Google web graph                                                               \n",
       "\n",
       "\n",
       "\\item \n",
       "\\item Dataset information                                                            \n",
       "\n",
       "\n",
       "\\item \n",
       "\\item Nodes represent web pages and directed edges represent hyperlinks between them.\n",
       "\n",
       "\n",
       "\\item The data was released in 2002 by Google as a part of Google Programming        \n",
       "\n",
       "\n",
       "\\item Contest.                                                                       \n",
       "\n",
       "\n",
       "\\item \n",
       "\\item Dataset statistics                                                             \n",
       "\n",
       "\n",
       "\\item Nodes   875713                                                                 \n",
       "\n",
       "\n",
       "\\item Edges   5105039                                                                \n",
       "\n",
       "\n",
       "\\item Nodes in largest WCC    855802 (0.977)                                         \n",
       "\n",
       "\n",
       "\\item Edges in largest WCC    5066842 (0.993)                                        \n",
       "\n",
       "\n",
       "\\item Nodes in largest SCC    434818 (0.497)                                         \n",
       "\n",
       "\n",
       "\\item Edges in largest SCC    3419124 (0.670)                                        \n",
       "\n",
       "\n",
       "\\item Average clustering coefficient  0.6047                                         \n",
       "\n",
       "\n",
       "\\item Number of triangles     13391903                                               \n",
       "\n",
       "\n",
       "\\item Fraction of closed triangles    0.05523                                        \n",
       "\n",
       "\n",
       "\\item Diameter (longest shortest path)    22                                         \n",
       "\n",
       "\n",
       "\\item 90-percentile effective diameter    8.1                                        \n",
       "\n",
       "\n",
       "\\item \n",
       "\\item Source (citation)                                                              \n",
       "\n",
       "\n",
       "\\item \n",
       "\\item J. Leskovec, K. Lang, A. Dasgupta, M. Mahoney. Community Structure in Large    \n",
       "\n",
       "\n",
       "\\item Networks: Natural Cluster Sizes and the Absence of Large Well-Defined Clusters.\n",
       "\n",
       "\n",
       "\\item arXiv.org:0810.1355, 2008.                                                     \n",
       "\n",
       "\n",
       "\\item \n",
       "\\item Google programming contest, 2002                                               \n",
       "\n",
       "\n",
       "\\item http://www.google.com/programming-contest/                                     \n",
       "\n",
       "\n",
       "\\item \n",
       "\\item Files                                                                          \n",
       "\n",
       "\n",
       "\\item File    Description                                                            \n",
       "\n",
       "\n",
       "\\item web-Google.txt.gz   Webgraph from the Google programming contest, 2002         \n",
       "\n",
       "\\end{itemize}\n",
       "\\rule{\\textwidth}{1pt}\n",
       "916428 916428 5105039\n",
       "\n"
      ],
      "text/markdown": [
       "# SNAP/web-Google\n",
       "\n",
       "###### MatrixMarket matrix coordinate pattern general\n",
       "\n",
       "---\n",
       "\n",
       "  * UF Sparse Matrix Collection, Tim Davis\n",
       "  * http://www.cise.ufl.edu/research/sparse/matrices/SNAP/web-Google\n",
       "  * name: SNAP/web-Google\n",
       "  * [Web graph from Google]\n",
       "  * id: 2301\n",
       "  * date: 2002\n",
       "  * author: Google\n",
       "  * ed: J. Leskovec\n",
       "  * fields: name title A id date author ed kind notes\n",
       "  * kind: directed graph\n",
       "\n",
       "---\n",
       "\n",
       "  * notes:\n",
       "  * Networks from SNAP (Stanford Network Analysis Platform) Network Data Sets,\n",
       "  * Jure Leskovec http://snap.stanford.edu/data/index.html\n",
       "  * email jure at cs.stanford.edu\n",
       "  * \n",
       "  * Google web graph\n",
       "  * \n",
       "  * Dataset information\n",
       "  * \n",
       "  * Nodes represent web pages and directed edges represent hyperlinks between them.\n",
       "  * The data was released in 2002 by Google as a part of Google Programming\n",
       "  * Contest.\n",
       "  * \n",
       "  * Dataset statistics\n",
       "  * Nodes   875713\n",
       "  * Edges   5105039\n",
       "  * Nodes in largest WCC    855802 (0.977)\n",
       "  * Edges in largest WCC    5066842 (0.993)\n",
       "  * Nodes in largest SCC    434818 (0.497)\n",
       "  * Edges in largest SCC    3419124 (0.670)\n",
       "  * Average clustering coefficient  0.6047\n",
       "  * Number of triangles     13391903\n",
       "  * Fraction of closed triangles    0.05523\n",
       "  * Diameter (longest shortest path)    22\n",
       "  * 90-percentile effective diameter    8.1\n",
       "  * \n",
       "  * Source (citation)\n",
       "  * \n",
       "  * J. Leskovec, K. Lang, A. Dasgupta, M. Mahoney. Community Structure in Large\n",
       "  * Networks: Natural Cluster Sizes and the Absence of Large Well-Defined Clusters.\n",
       "  * arXiv.org:0810.1355, 2008.\n",
       "  * \n",
       "  * Google programming contest, 2002\n",
       "  * http://www.google.com/programming-contest/\n",
       "  * \n",
       "  * Files\n",
       "  * File    Description\n",
       "  * web-Google.txt.gz   Webgraph from the Google programming contest, 2002\n",
       "\n",
       "---\n",
       "\n",
       "916428 916428 5105039\n"
      ],
      "text/plain": [
       "\u001b[1m  SNAP/web-Google\u001b[22m\n",
       "\u001b[1m  ≡≡≡≡≡≡≡≡≡≡≡≡≡≡≡≡≡\u001b[22m\n",
       "\n",
       "\u001b[1m  MatrixMarket matrix coordinate pattern general\u001b[22m\n",
       "\n",
       "  ────────────────────────────────────────────────────────────────────────────\n",
       "\n",
       "    •    UF Sparse Matrix Collection, Tim Davis\n",
       "\n",
       "    •    http://www.cise.ufl.edu/research/sparse/matrices/SNAP/web-Google\n",
       "\n",
       "    •    name: SNAP/web-Google\n",
       "\n",
       "    •    [Web graph from Google]\n",
       "\n",
       "    •    id: 2301\n",
       "\n",
       "    •    date: 2002\n",
       "\n",
       "    •    author: Google\n",
       "\n",
       "    •    ed: J. Leskovec\n",
       "\n",
       "    •    fields: name title A id date author ed kind notes\n",
       "\n",
       "    •    kind: directed graph\n",
       "\n",
       "  ────────────────────────────────────────────────────────────────────────────\n",
       "\n",
       "    •    notes:\n",
       "\n",
       "    •    Networks from SNAP (Stanford Network Analysis Platform) Network\n",
       "        Data Sets, \n",
       "\n",
       "    •    Jure Leskovec http://snap.stanford.edu/data/index.html \n",
       "\n",
       "    •    email jure at cs.stanford.edu \n",
       "\n",
       "    •  \n",
       "\n",
       "    •    Google web graph \n",
       "\n",
       "    •  \n",
       "\n",
       "    •    Dataset information \n",
       "\n",
       "    •  \n",
       "\n",
       "    •    Nodes represent web pages and directed edges represent hyperlinks\n",
       "        between them.\n",
       "\n",
       "    •    The data was released in 2002 by Google as a part of Google\n",
       "        Programming \n",
       "\n",
       "    •    Contest. \n",
       "\n",
       "    •  \n",
       "\n",
       "    •    Dataset statistics \n",
       "\n",
       "    •    Nodes 875713 \n",
       "\n",
       "    •    Edges 5105039 \n",
       "\n",
       "    •    Nodes in largest WCC 855802 (0.977) \n",
       "\n",
       "    •    Edges in largest WCC 5066842 (0.993) \n",
       "\n",
       "    •    Nodes in largest SCC 434818 (0.497) \n",
       "\n",
       "    •    Edges in largest SCC 3419124 (0.670) \n",
       "\n",
       "    •    Average clustering coefficient 0.6047 \n",
       "\n",
       "    •    Number of triangles 13391903 \n",
       "\n",
       "    •    Fraction of closed triangles 0.05523 \n",
       "\n",
       "    •    Diameter (longest shortest path) 22 \n",
       "\n",
       "    •    90-percentile effective diameter 8.1 \n",
       "\n",
       "    •  \n",
       "\n",
       "    •    Source (citation) \n",
       "\n",
       "    •  \n",
       "\n",
       "    •    J. Leskovec, K. Lang, A. Dasgupta, M. Mahoney. Community Structure\n",
       "        in Large \n",
       "\n",
       "    •    Networks: Natural Cluster Sizes and the Absence of Large\n",
       "        Well-Defined Clusters.\n",
       "\n",
       "    •    arXiv.org:0810.1355, 2008. \n",
       "\n",
       "    •  \n",
       "\n",
       "    •    Google programming contest, 2002 \n",
       "\n",
       "    •    http://www.google.com/programming-contest/ \n",
       "\n",
       "    •  \n",
       "\n",
       "    •    Files \n",
       "\n",
       "    •    File Description \n",
       "\n",
       "    •    web-Google.txt.gz Webgraph from the Google programming contest,\n",
       "        2002 \n",
       "\n",
       "  ────────────────────────────────────────────────────────────────────────────\n",
       "\n",
       "  916428 916428 5105039"
      ]
     },
     "execution_count": 1,
     "metadata": {},
     "output_type": "execute_result"
    }
   ],
   "source": [
    "using MatrixDepot\n",
    "\n",
    "md = mdopen(\"SNAP/web-Google\")\n",
    "# display documentation for the SNAP/web-Google data\n",
    "mdinfo(md)"
   ]
  },
  {
   "cell_type": "code",
   "execution_count": 2,
   "metadata": {},
   "outputs": [
    {
     "data": {
      "text/plain": [
       "916428×916428 SparseArrays.SparseMatrixCSC{Bool,Int64} with 5105039 stored entries:\n",
       "  [11343 ,      1]  =  1\n",
       "  [11928 ,      1]  =  1\n",
       "  [15902 ,      1]  =  1\n",
       "  [29547 ,      1]  =  1\n",
       "  [30282 ,      1]  =  1\n",
       "  [31301 ,      1]  =  1\n",
       "  [38717 ,      1]  =  1\n",
       "  [43930 ,      1]  =  1\n",
       "  [46275 ,      1]  =  1\n",
       "  [48193 ,      1]  =  1\n",
       "  [50823 ,      1]  =  1\n",
       "  [56911 ,      1]  =  1\n",
       "  ⋮\n",
       "  [608625, 916427]  =  1\n",
       "  [618730, 916427]  =  1\n",
       "  [622998, 916427]  =  1\n",
       "  [673046, 916427]  =  1\n",
       "  [716616, 916427]  =  1\n",
       "  [720325, 916427]  =  1\n",
       "  [772226, 916427]  =  1\n",
       "  [785097, 916427]  =  1\n",
       "  [788476, 916427]  =  1\n",
       "  [822938, 916427]  =  1\n",
       "  [833616, 916427]  =  1\n",
       "  [417498, 916428]  =  1\n",
       "  [843845, 916428]  =  1"
      ]
     },
     "execution_count": 2,
     "metadata": {},
     "output_type": "execute_result"
    }
   ],
   "source": [
    "# connectivity matrix\n",
    "MatrixDepot.addmetadata!(md.data)\n",
    "A = md.A"
   ]
  },
  {
   "cell_type": "code",
   "execution_count": 3,
   "metadata": {},
   "outputs": [
    {
     "name": "stdout",
     "output_type": "stream",
     "text": [
      "Base.summarysize(A) = 53276943\n",
      "size(A) = (916428, 916428)\n"
     ]
    },
    {
     "ename": "UndefVarError",
     "evalue": "UndefVarError: nnz not defined",
     "output_type": "error",
     "traceback": [
      "UndefVarError: nnz not defined",
      "",
      "Stacktrace:",
      " [1] top-level scope at show.jl:613",
      " [2] top-level scope at In[3]:6"
     ]
    }
   ],
   "source": [
    "# How much memory does A take? If converted to dense matrix (answered below)\n",
    "@show Base.summarysize(A)\n",
    "\n",
    "# number of web pages: # of columns/rows in A\n",
    "@show size(A)\n",
    "# number of edges (web links): simply use nnz function to count filled elements\n",
    "@show nnz(A) \n",
    "# number of dangling nodes: first conduct row sums and then sum all that are equal to zero\n",
    "@show sum(sum(A, dims = 2) .== 0)"
   ]
  },
  {
   "cell_type": "markdown",
   "metadata": {},
   "source": [
    "From above results, we can see that the memory usage was 53276943 bits, which is around 6.65962 Mbs, we have a total of 916428 pages, 5105039 web links, and 176974 dangling nodes.     \n",
    "<br/>\n",
    "\n",
    "Also, to answer the first question, since we know that the matrix is $916428\\times916428$, and the type is `boolean`, the dense matrix would have taken \n",
    "\n",
    "$$\n",
    "\\frac{916428\\times916428}{8 \\; \\text{bits/byte}} \\approx 1.0498\\times 10^{11} \\; \\text{bytes}\n",
    "$$\n",
    "\n",
    "or 104.98 GB, which is too large to be loaded into most computer's RAM."
   ]
  },
  {
   "cell_type": "code",
   "execution_count": 4,
   "metadata": {},
   "outputs": [
    {
     "data": {
      "text/plain": [
       "\u001b[90m                    ┌                                        ┐\u001b[39m \n",
       "   \u001b[0m\u001b[90m[\u001b[0m   0.0\u001b[90m, \u001b[0m 200.0\u001b[90m)\u001b[0m\u001b[90m ┤\u001b[39m\u001b[32m▇▇▇▇▇▇▇▇▇▇▇▇▇▇▇▇▇▇▇▇▇▇▇▇▇▇▇▇▇▇▇▇\u001b[39m\u001b[0m 915169 \u001b[90m \u001b[39m \n",
       "   \u001b[0m\u001b[90m[\u001b[0m 200.0\u001b[90m, \u001b[0m 400.0\u001b[90m)\u001b[0m\u001b[90m ┤\u001b[39m\u001b[0m 812                                    \u001b[90m \u001b[39m \n",
       "   \u001b[0m\u001b[90m[\u001b[0m 400.0\u001b[90m, \u001b[0m 600.0\u001b[90m)\u001b[0m\u001b[90m ┤\u001b[39m\u001b[0m 203                                    \u001b[90m \u001b[39m \n",
       "   \u001b[0m\u001b[90m[\u001b[0m 600.0\u001b[90m, \u001b[0m 800.0\u001b[90m)\u001b[0m\u001b[90m ┤\u001b[39m\u001b[0m 80                                     \u001b[90m \u001b[39m \n",
       "   \u001b[0m\u001b[90m[\u001b[0m 800.0\u001b[90m, \u001b[0m1000.0\u001b[90m)\u001b[0m\u001b[90m ┤\u001b[39m\u001b[0m 30                                     \u001b[90m \u001b[39m \n",
       "   \u001b[0m\u001b[90m[\u001b[0m1000.0\u001b[90m, \u001b[0m1200.0\u001b[90m)\u001b[0m\u001b[90m ┤\u001b[39m\u001b[0m 19                                     \u001b[90m \u001b[39m \n",
       "   \u001b[0m\u001b[90m[\u001b[0m1200.0\u001b[90m, \u001b[0m1400.0\u001b[90m)\u001b[0m\u001b[90m ┤\u001b[39m\u001b[0m 12                                     \u001b[90m \u001b[39m \n",
       "   \u001b[0m\u001b[90m[\u001b[0m1400.0\u001b[90m, \u001b[0m1600.0\u001b[90m)\u001b[0m\u001b[90m ┤\u001b[39m\u001b[0m 6                                      \u001b[90m \u001b[39m \n",
       "   \u001b[0m\u001b[90m[\u001b[0m1600.0\u001b[90m, \u001b[0m1800.0\u001b[90m)\u001b[0m\u001b[90m ┤\u001b[39m\u001b[0m 6                                      \u001b[90m \u001b[39m \n",
       "   \u001b[0m\u001b[90m[\u001b[0m1800.0\u001b[90m, \u001b[0m2000.0\u001b[90m)\u001b[0m\u001b[90m ┤\u001b[39m\u001b[0m 9                                      \u001b[90m \u001b[39m \n",
       "   \u001b[0m\u001b[90m[\u001b[0m2000.0\u001b[90m, \u001b[0m2200.0\u001b[90m)\u001b[0m\u001b[90m ┤\u001b[39m\u001b[0m 8                                      \u001b[90m \u001b[39m \n",
       "   \u001b[0m\u001b[90m[\u001b[0m2200.0\u001b[90m, \u001b[0m2400.0\u001b[90m)\u001b[0m\u001b[90m ┤\u001b[39m\u001b[0m 4                                      \u001b[90m \u001b[39m \n",
       "   \u001b[0m\u001b[90m[\u001b[0m2400.0\u001b[90m, \u001b[0m2600.0\u001b[90m)\u001b[0m\u001b[90m ┤\u001b[39m\u001b[0m 7                                      \u001b[90m \u001b[39m \n",
       "   \u001b[0m\u001b[90m[\u001b[0m2600.0\u001b[90m, \u001b[0m2800.0\u001b[90m)\u001b[0m\u001b[90m ┤\u001b[39m\u001b[0m 11                                     \u001b[90m \u001b[39m \n",
       "   \u001b[0m\u001b[90m[\u001b[0m2800.0\u001b[90m, \u001b[0m3000.0\u001b[90m)\u001b[0m\u001b[90m ┤\u001b[39m\u001b[0m 6                                      \u001b[90m \u001b[39m \n",
       "   \u001b[0m\u001b[90m[\u001b[0m3000.0\u001b[90m, \u001b[0m3200.0\u001b[90m)\u001b[0m\u001b[90m ┤\u001b[39m\u001b[0m 9                                      \u001b[90m \u001b[39m \n",
       "   \u001b[0m\u001b[90m[\u001b[0m3200.0\u001b[90m, \u001b[0m3400.0\u001b[90m)\u001b[0m\u001b[90m ┤\u001b[39m\u001b[0m 8                                      \u001b[90m \u001b[39m \n",
       "   \u001b[0m\u001b[90m[\u001b[0m3400.0\u001b[90m, \u001b[0m3600.0\u001b[90m)\u001b[0m\u001b[90m ┤\u001b[39m\u001b[0m 3                                      \u001b[90m \u001b[39m \n",
       "   \u001b[0m\u001b[90m[\u001b[0m3600.0\u001b[90m, \u001b[0m3800.0\u001b[90m)\u001b[0m\u001b[90m ┤\u001b[39m\u001b[0m 1                                      \u001b[90m \u001b[39m \n",
       "   \u001b[0m\u001b[90m[\u001b[0m3800.0\u001b[90m, \u001b[0m4000.0\u001b[90m)\u001b[0m\u001b[90m ┤\u001b[39m\u001b[0m 7                                      \u001b[90m \u001b[39m \n",
       "   \u001b[0m\u001b[90m[\u001b[0m4000.0\u001b[90m, \u001b[0m4200.0\u001b[90m)\u001b[0m\u001b[90m ┤\u001b[39m\u001b[0m 5                                      \u001b[90m \u001b[39m \n",
       "   \u001b[0m\u001b[90m[\u001b[0m4200.0\u001b[90m, \u001b[0m4400.0\u001b[90m)\u001b[0m\u001b[90m ┤\u001b[39m\u001b[0m 3                                      \u001b[90m \u001b[39m \n",
       "   \u001b[0m\u001b[90m[\u001b[0m4400.0\u001b[90m, \u001b[0m4600.0\u001b[90m)\u001b[0m\u001b[90m ┤\u001b[39m\u001b[0m 2                                      \u001b[90m \u001b[39m \n",
       "   \u001b[0m\u001b[90m[\u001b[0m4600.0\u001b[90m, \u001b[0m4800.0\u001b[90m)\u001b[0m\u001b[90m ┤\u001b[39m\u001b[0m 2                                      \u001b[90m \u001b[39m \n",
       "   \u001b[0m\u001b[90m[\u001b[0m4800.0\u001b[90m, \u001b[0m5000.0\u001b[90m)\u001b[0m\u001b[90m ┤\u001b[39m\u001b[0m 1                                      \u001b[90m \u001b[39m \n",
       "   \u001b[0m\u001b[90m[\u001b[0m5000.0\u001b[90m, \u001b[0m5200.0\u001b[90m)\u001b[0m\u001b[90m ┤\u001b[39m\u001b[0m 2                                      \u001b[90m \u001b[39m \n",
       "   \u001b[0m\u001b[90m[\u001b[0m5200.0\u001b[90m, \u001b[0m5400.0\u001b[90m)\u001b[0m\u001b[90m ┤\u001b[39m\u001b[0m 2                                      \u001b[90m \u001b[39m \n",
       "   \u001b[0m\u001b[90m[\u001b[0m5400.0\u001b[90m, \u001b[0m5600.0\u001b[90m)\u001b[0m\u001b[90m ┤\u001b[39m\u001b[0m 0                                      \u001b[90m \u001b[39m \n",
       "   \u001b[0m\u001b[90m[\u001b[0m5600.0\u001b[90m, \u001b[0m5800.0\u001b[90m)\u001b[0m\u001b[90m ┤\u001b[39m\u001b[0m 0                                      \u001b[90m \u001b[39m \n",
       "   \u001b[0m\u001b[90m[\u001b[0m5800.0\u001b[90m, \u001b[0m6000.0\u001b[90m)\u001b[0m\u001b[90m ┤\u001b[39m\u001b[0m 0                                      \u001b[90m \u001b[39m \n",
       "   \u001b[0m\u001b[90m[\u001b[0m6000.0\u001b[90m, \u001b[0m6200.0\u001b[90m)\u001b[0m\u001b[90m ┤\u001b[39m\u001b[0m 0                                      \u001b[90m \u001b[39m \n",
       "   \u001b[0m\u001b[90m[\u001b[0m6200.0\u001b[90m, \u001b[0m6400.0\u001b[90m)\u001b[0m\u001b[90m ┤\u001b[39m\u001b[0m 1                                      \u001b[90m \u001b[39m \n",
       "\u001b[90m                    └                                        ┘\u001b[39m \n",
       "\u001b[0m                                    Frequency"
      ]
     },
     "execution_count": 4,
     "metadata": {},
     "output_type": "execute_result"
    }
   ],
   "source": [
    "using UnicodePlots\n",
    "\n",
    "# histogram of in-degrees: histogram of column sums\n",
    "degrees_in = vec(sum(A, dims = 1))\n",
    "histogram(degrees_in, nbins = 30)"
   ]
  },
  {
   "cell_type": "code",
   "execution_count": 5,
   "metadata": {},
   "outputs": [
    {
     "name": "stdout",
     "output_type": "stream",
     "text": [
      "(sortperm(degrees_in, rev = true))[1:20] = [537040, 597622, 504141, 751385, 32164, 885606, 163076, 819224, 605857, 828964, 551830, 41910, 558792, 459075, 407611, 213433, 765335, 384667, 173977, 687326]\n",
      "(sort(degrees_in, rev = true))[1:20, :] = [6326; 5354; 5271; 5182; 5097; 4847; 4731; 4620; 4550; 4484; 4220; 4219; 4206; 4187; 4180; 4084; 4015; 4010; 3988; 3956]\n"
     ]
    },
    {
     "data": {
      "text/plain": [
       "20×1 Array{Int64,2}:\n",
       " 6326\n",
       " 5354\n",
       " 5271\n",
       " 5182\n",
       " 5097\n",
       " 4847\n",
       " 4731\n",
       " 4620\n",
       " 4550\n",
       " 4484\n",
       " 4220\n",
       " 4219\n",
       " 4206\n",
       " 4187\n",
       " 4180\n",
       " 4084\n",
       " 4015\n",
       " 4010\n",
       " 3988\n",
       " 3956"
      ]
     },
     "execution_count": 5,
     "metadata": {},
     "output_type": "execute_result"
    }
   ],
   "source": [
    "# list the top 20 pages with the largest in-degrees?\n",
    "# Top 20 in-degree Page numbers are as shown below\n",
    "@show sortperm(degrees_in, rev = true)[1:20]\n",
    "# Top 20 in-degrees are as shown below\n",
    "@show sort(degrees_in, rev = true)[1:20, :]"
   ]
  },
  {
   "cell_type": "code",
   "execution_count": 6,
   "metadata": {},
   "outputs": [
    {
     "data": {
      "text/plain": [
       "\u001b[90m                  ┌                                        ┐\u001b[39m \n",
       "   \u001b[0m\u001b[90m[\u001b[0m  0.0\u001b[90m, \u001b[0m 20.0\u001b[90m)\u001b[0m\u001b[90m ┤\u001b[39m\u001b[32m▇▇▇▇▇▇▇▇▇▇▇▇▇▇▇▇▇▇▇▇▇▇▇▇▇▇▇▇▇▇▇▇\u001b[39m\u001b[0m 891798 \u001b[90m \u001b[39m \n",
       "   \u001b[0m\u001b[90m[\u001b[0m 20.0\u001b[90m, \u001b[0m 40.0\u001b[90m)\u001b[0m\u001b[90m ┤\u001b[39m\u001b[32m▇\u001b[39m\u001b[0m 22628                                 \u001b[90m \u001b[39m \n",
       "   \u001b[0m\u001b[90m[\u001b[0m 40.0\u001b[90m, \u001b[0m 60.0\u001b[90m)\u001b[0m\u001b[90m ┤\u001b[39m\u001b[0m 1329                                   \u001b[90m \u001b[39m \n",
       "   \u001b[0m\u001b[90m[\u001b[0m 60.0\u001b[90m, \u001b[0m 80.0\u001b[90m)\u001b[0m\u001b[90m ┤\u001b[39m\u001b[0m 371                                    \u001b[90m \u001b[39m \n",
       "   \u001b[0m\u001b[90m[\u001b[0m 80.0\u001b[90m, \u001b[0m100.0\u001b[90m)\u001b[0m\u001b[90m ┤\u001b[39m\u001b[0m 124                                    \u001b[90m \u001b[39m \n",
       "   \u001b[0m\u001b[90m[\u001b[0m100.0\u001b[90m, \u001b[0m120.0\u001b[90m)\u001b[0m\u001b[90m ┤\u001b[39m\u001b[0m 86                                     \u001b[90m \u001b[39m \n",
       "   \u001b[0m\u001b[90m[\u001b[0m120.0\u001b[90m, \u001b[0m140.0\u001b[90m)\u001b[0m\u001b[90m ┤\u001b[39m\u001b[0m 29                                     \u001b[90m \u001b[39m \n",
       "   \u001b[0m\u001b[90m[\u001b[0m140.0\u001b[90m, \u001b[0m160.0\u001b[90m)\u001b[0m\u001b[90m ┤\u001b[39m\u001b[0m 15                                     \u001b[90m \u001b[39m \n",
       "   \u001b[0m\u001b[90m[\u001b[0m160.0\u001b[90m, \u001b[0m180.0\u001b[90m)\u001b[0m\u001b[90m ┤\u001b[39m\u001b[0m 15                                     \u001b[90m \u001b[39m \n",
       "   \u001b[0m\u001b[90m[\u001b[0m180.0\u001b[90m, \u001b[0m200.0\u001b[90m)\u001b[0m\u001b[90m ┤\u001b[39m\u001b[0m 8                                      \u001b[90m \u001b[39m \n",
       "   \u001b[0m\u001b[90m[\u001b[0m200.0\u001b[90m, \u001b[0m220.0\u001b[90m)\u001b[0m\u001b[90m ┤\u001b[39m\u001b[0m 7                                      \u001b[90m \u001b[39m \n",
       "   \u001b[0m\u001b[90m[\u001b[0m220.0\u001b[90m, \u001b[0m240.0\u001b[90m)\u001b[0m\u001b[90m ┤\u001b[39m\u001b[0m 3                                      \u001b[90m \u001b[39m \n",
       "   \u001b[0m\u001b[90m[\u001b[0m240.0\u001b[90m, \u001b[0m260.0\u001b[90m)\u001b[0m\u001b[90m ┤\u001b[39m\u001b[0m 8                                      \u001b[90m \u001b[39m \n",
       "   \u001b[0m\u001b[90m[\u001b[0m260.0\u001b[90m, \u001b[0m280.0\u001b[90m)\u001b[0m\u001b[90m ┤\u001b[39m\u001b[0m 3                                      \u001b[90m \u001b[39m \n",
       "   \u001b[0m\u001b[90m[\u001b[0m280.0\u001b[90m, \u001b[0m300.0\u001b[90m)\u001b[0m\u001b[90m ┤\u001b[39m\u001b[0m 0                                      \u001b[90m \u001b[39m \n",
       "   \u001b[0m\u001b[90m[\u001b[0m300.0\u001b[90m, \u001b[0m320.0\u001b[90m)\u001b[0m\u001b[90m ┤\u001b[39m\u001b[0m 0                                      \u001b[90m \u001b[39m \n",
       "   \u001b[0m\u001b[90m[\u001b[0m320.0\u001b[90m, \u001b[0m340.0\u001b[90m)\u001b[0m\u001b[90m ┤\u001b[39m\u001b[0m 1                                      \u001b[90m \u001b[39m \n",
       "   \u001b[0m\u001b[90m[\u001b[0m340.0\u001b[90m, \u001b[0m360.0\u001b[90m)\u001b[0m\u001b[90m ┤\u001b[39m\u001b[0m 0                                      \u001b[90m \u001b[39m \n",
       "   \u001b[0m\u001b[90m[\u001b[0m360.0\u001b[90m, \u001b[0m380.0\u001b[90m)\u001b[0m\u001b[90m ┤\u001b[39m\u001b[0m 2                                      \u001b[90m \u001b[39m \n",
       "   \u001b[0m\u001b[90m[\u001b[0m380.0\u001b[90m, \u001b[0m400.0\u001b[90m)\u001b[0m\u001b[90m ┤\u001b[39m\u001b[0m 0                                      \u001b[90m \u001b[39m \n",
       "   \u001b[0m\u001b[90m[\u001b[0m400.0\u001b[90m, \u001b[0m420.0\u001b[90m)\u001b[0m\u001b[90m ┤\u001b[39m\u001b[0m 0                                      \u001b[90m \u001b[39m \n",
       "   \u001b[0m\u001b[90m[\u001b[0m420.0\u001b[90m, \u001b[0m440.0\u001b[90m)\u001b[0m\u001b[90m ┤\u001b[39m\u001b[0m 0                                      \u001b[90m \u001b[39m \n",
       "   \u001b[0m\u001b[90m[\u001b[0m440.0\u001b[90m, \u001b[0m460.0\u001b[90m)\u001b[0m\u001b[90m ┤\u001b[39m\u001b[0m 1                                      \u001b[90m \u001b[39m \n",
       "\u001b[90m                  └                                        ┘\u001b[39m \n",
       "\u001b[0m                                  Frequency"
      ]
     },
     "execution_count": 6,
     "metadata": {},
     "output_type": "execute_result"
    }
   ],
   "source": [
    "# histogram of out-degrees: histogram of row sums\n",
    "\n",
    "degrees_out = vec(sum(A, dims = 2))\n",
    "histogram(degrees_out, nbins = 30)"
   ]
  },
  {
   "cell_type": "code",
   "execution_count": 7,
   "metadata": {},
   "outputs": [
    {
     "name": "stdout",
     "output_type": "stream",
     "text": [
      "(sortperm(degrees_in, rev = true))[1:20] = [537040, 597622, 504141, 751385, 32164, 885606, 163076, 819224, 605857, 828964, 551830, 41910, 558792, 459075, 407611, 213433, 765335, 384667, 173977, 687326]\n",
      "(sort(degrees_out, rev = true))[1:20, :] = [456; 372; 372; 330; 277; 268; 265; 258; 257; 256; 253; 248; 247; 245; 244; 231; 229; 225; 216; 213]\n"
     ]
    },
    {
     "data": {
      "text/plain": [
       "20×1 Array{Int64,2}:\n",
       " 456\n",
       " 372\n",
       " 372\n",
       " 330\n",
       " 277\n",
       " 268\n",
       " 265\n",
       " 258\n",
       " 257\n",
       " 256\n",
       " 253\n",
       " 248\n",
       " 247\n",
       " 245\n",
       " 244\n",
       " 231\n",
       " 229\n",
       " 225\n",
       " 216\n",
       " 213"
      ]
     },
     "execution_count": 7,
     "metadata": {},
     "output_type": "execute_result"
    }
   ],
   "source": [
    "# which are the top 20 pages with the largest out-degrees?\n",
    "# Again, first line outputs the page numbers to the top 20 out-degrees\n",
    "@show sortperm(degrees_in, rev = true)[1:20]\n",
    "# This second line outputs the actual top 20 in-degrees themselves\n",
    "@show sort(degrees_out, rev = true)[1:20, :]"
   ]
  },
  {
   "cell_type": "code",
   "execution_count": 8,
   "metadata": {},
   "outputs": [
    {
     "data": {
      "text/plain": [
       "\u001b[1m                      Sparsity Pattern\u001b[22m\n",
       "\u001b[90m         ┌──────────────────────────────────────────┐\u001b[39m    \n",
       "       \u001b[90m1\u001b[39m\u001b[90m │\u001b[39m\u001b[0m⠀\u001b[0m⠀\u001b[0m⠀\u001b[0m⠀\u001b[0m⠀\u001b[0m⠀\u001b[0m⠀\u001b[31m⠂\u001b[39m\u001b[0m⠀\u001b[0m⠀\u001b[0m⠀\u001b[0m⠀\u001b[31m⢀\u001b[39m\u001b[31m⢂\u001b[39m\u001b[31m⡂\u001b[39m\u001b[31m⠐\u001b[39m\u001b[0m⠀\u001b[0m⠀\u001b[0m⠀\u001b[31m⠠\u001b[39m\u001b[0m⠀\u001b[0m⠀\u001b[0m⠀\u001b[31m⠔\u001b[39m\u001b[31m⠄\u001b[39m\u001b[0m⠀\u001b[31m⠈\u001b[39m\u001b[31m⢀\u001b[39m\u001b[0m⠀\u001b[0m⠀\u001b[31m⠉\u001b[39m\u001b[0m⠀\u001b[0m⠀\u001b[31m⠁\u001b[39m\u001b[0m⠀\u001b[0m⠀\u001b[31m⠐\u001b[39m\u001b[0m⠀\u001b[31m⠄\u001b[39m\u001b[0m⠀\u001b[31m⠐\u001b[39m\u001b[0m⠀\u001b[90m│\u001b[39m \u001b[31m> 0\u001b[39m\n",
       "        \u001b[90m │\u001b[39m\u001b[0m⠀\u001b[0m⠀\u001b[0m⠀\u001b[0m⠀\u001b[0m⠀\u001b[31m⠂\u001b[39m\u001b[31m⡂\u001b[39m\u001b[0m⠀\u001b[31m⠄\u001b[39m\u001b[31m⠄\u001b[39m\u001b[31m⠈\u001b[39m\u001b[31m⠈\u001b[39m\u001b[31m⡔\u001b[39m\u001b[0m⠀\u001b[0m⠀\u001b[31m⠁\u001b[39m\u001b[31m⠂\u001b[39m\u001b[0m⠀\u001b[0m⠀\u001b[0m⠀\u001b[0m⠀\u001b[31m⠠\u001b[39m\u001b[31m⠁\u001b[39m\u001b[31m⠒\u001b[39m\u001b[31m⠁\u001b[39m\u001b[0m⠀\u001b[31m⠄\u001b[39m\u001b[0m⠀\u001b[31m⠐\u001b[39m\u001b[0m⠀\u001b[31m⠈\u001b[39m\u001b[0m⠀\u001b[0m⠀\u001b[31m⡐\u001b[39m\u001b[0m⠀\u001b[0m⠀\u001b[31m⠠\u001b[39m\u001b[0m⠀\u001b[31m⡀\u001b[39m\u001b[0m⠀\u001b[31m⠉\u001b[39m\u001b[0m⠀\u001b[90m│\u001b[39m \u001b[34m< 0\u001b[39m\n",
       "        \u001b[90m │\u001b[39m\u001b[0m⠀\u001b[31m⠐\u001b[39m\u001b[31m⠠\u001b[39m\u001b[0m⠀\u001b[0m⠀\u001b[31m⠁\u001b[39m\u001b[31m⢐\u001b[39m\u001b[31m⠄\u001b[39m\u001b[0m⠀\u001b[31m⠢\u001b[39m\u001b[31m⠠\u001b[39m\u001b[0m⠀\u001b[0m⠀\u001b[31m⡀\u001b[39m\u001b[31m⠈\u001b[39m\u001b[0m⠀\u001b[31m⠋\u001b[39m\u001b[0m⠀\u001b[0m⠀\u001b[0m⠀\u001b[0m⠀\u001b[0m⠀\u001b[31m⠂\u001b[39m\u001b[31m⡀\u001b[39m\u001b[0m⠀\u001b[31m⠈\u001b[39m\u001b[31m⠄\u001b[39m\u001b[0m⠀\u001b[31m⠄\u001b[39m\u001b[31m⠁\u001b[39m\u001b[31m⠈\u001b[39m\u001b[0m⠀\u001b[31m⠠\u001b[39m\u001b[0m⠀\u001b[31m⠰\u001b[39m\u001b[0m⠀\u001b[0m⠀\u001b[0m⠀\u001b[0m⠀\u001b[31m⢀\u001b[39m\u001b[31m⠆\u001b[39m\u001b[0m⠀\u001b[90m│\u001b[39m    \n",
       "        \u001b[90m │\u001b[39m\u001b[0m⠀\u001b[31m⠈\u001b[39m\u001b[31m⠠\u001b[39m\u001b[31m⠂\u001b[39m\u001b[0m⠀\u001b[31m⠈\u001b[39m\u001b[0m⠀\u001b[31m⡠\u001b[39m\u001b[31m⠐\u001b[39m\u001b[0m⠀\u001b[0m⠀\u001b[0m⠀\u001b[0m⠀\u001b[0m⠀\u001b[0m⠀\u001b[0m⠀\u001b[0m⠀\u001b[0m⠀\u001b[0m⠀\u001b[31m⡀\u001b[39m\u001b[31m⠈\u001b[39m\u001b[31m⠄\u001b[39m\u001b[31m⠁\u001b[39m\u001b[31m⢀\u001b[39m\u001b[31m⡀\u001b[39m\u001b[31m⠐\u001b[39m\u001b[31m⠄\u001b[39m\u001b[31m⠄\u001b[39m\u001b[0m⠀\u001b[0m⠀\u001b[31m⢀\u001b[39m\u001b[0m⠀\u001b[31m⠈\u001b[39m\u001b[31m⠂\u001b[39m\u001b[31m⢠\u001b[39m\u001b[0m⠀\u001b[31m⠢\u001b[39m\u001b[31m⠐\u001b[39m\u001b[0m⠀\u001b[0m⠀\u001b[0m⠀\u001b[31m⡀\u001b[39m\u001b[90m│\u001b[39m    \n",
       "        \u001b[90m │\u001b[39m\u001b[0m⠀\u001b[0m⠀\u001b[31m⠐\u001b[39m\u001b[31m⡁\u001b[39m\u001b[0m⠀\u001b[31m⡀\u001b[39m\u001b[0m⠀\u001b[0m⠀\u001b[31m⠠\u001b[39m\u001b[0m⠀\u001b[31m⠁\u001b[39m\u001b[0m⠀\u001b[0m⠀\u001b[0m⠀\u001b[31m⡄\u001b[39m\u001b[0m⠀\u001b[31m⠈\u001b[39m\u001b[31m⠁\u001b[39m\u001b[0m⠀\u001b[0m⠀\u001b[0m⠀\u001b[0m⠀\u001b[31m⠠\u001b[39m\u001b[31m⠂\u001b[39m\u001b[0m⠀\u001b[0m⠀\u001b[0m⠀\u001b[0m⠀\u001b[0m⠀\u001b[31m⠂\u001b[39m\u001b[31m⠪\u001b[39m\u001b[0m⠀\u001b[0m⠀\u001b[31m⠂\u001b[39m\u001b[0m⠀\u001b[0m⠀\u001b[0m⠀\u001b[31m⠄\u001b[39m\u001b[31m⢀\u001b[39m\u001b[0m⠀\u001b[31m⠁\u001b[39m\u001b[0m⠀\u001b[90m│\u001b[39m    \n",
       "        \u001b[90m │\u001b[39m\u001b[31m⠂\u001b[39m\u001b[31m⢀\u001b[39m\u001b[0m⠀\u001b[31m⠁\u001b[39m\u001b[0m⠀\u001b[0m⠀\u001b[31m⡀\u001b[39m\u001b[31m⡉\u001b[39m\u001b[0m⠀\u001b[0m⠀\u001b[31m⠠\u001b[39m\u001b[31m⠂\u001b[39m\u001b[31m⠐\u001b[39m\u001b[31m⢀\u001b[39m\u001b[31m⠄\u001b[39m\u001b[31m⠁\u001b[39m\u001b[31m⠐\u001b[39m\u001b[0m⠀\u001b[31m⠈\u001b[39m\u001b[0m⠀\u001b[0m⠀\u001b[0m⠀\u001b[0m⠀\u001b[0m⠀\u001b[31m⡀\u001b[39m\u001b[31m⠐\u001b[39m\u001b[31m⠁\u001b[39m\u001b[31m⡠\u001b[39m\u001b[0m⠀\u001b[31m⠂\u001b[39m\u001b[31m⠚\u001b[39m\u001b[0m⠀\u001b[31m⠁\u001b[39m\u001b[0m⠀\u001b[31m⠐\u001b[39m\u001b[31m⢀\u001b[39m\u001b[31m⠆\u001b[39m\u001b[0m⠀\u001b[31m⠈\u001b[39m\u001b[31m⠄\u001b[39m\u001b[31m⢀\u001b[39m\u001b[31m⠂\u001b[39m\u001b[90m│\u001b[39m    \n",
       "        \u001b[90m │\u001b[39m\u001b[0m⠀\u001b[0m⠀\u001b[0m⠀\u001b[31m⠁\u001b[39m\u001b[0m⠀\u001b[31m⡄\u001b[39m\u001b[0m⠀\u001b[0m⠀\u001b[0m⠀\u001b[0m⠀\u001b[31m⠒\u001b[39m\u001b[0m⠀\u001b[31m⢄\u001b[39m\u001b[31m⠄\u001b[39m\u001b[31m⢂\u001b[39m\u001b[0m⠀\u001b[31m⠂\u001b[39m\u001b[0m⠀\u001b[0m⠀\u001b[31m⠄\u001b[39m\u001b[0m⠀\u001b[31m⢀\u001b[39m\u001b[0m⠀\u001b[31m⠣\u001b[39m\u001b[0m⠀\u001b[31m⢀\u001b[39m\u001b[0m⠀\u001b[0m⠀\u001b[0m⠀\u001b[0m⠀\u001b[31m⠠\u001b[39m\u001b[31m⡀\u001b[39m\u001b[0m⠀\u001b[0m⠀\u001b[31m⢠\u001b[39m\u001b[31m⠄\u001b[39m\u001b[0m⠀\u001b[31m⡀\u001b[39m\u001b[0m⠀\u001b[31m⠂\u001b[39m\u001b[31m⠂\u001b[39m\u001b[0m⠀\u001b[90m│\u001b[39m    \n",
       "        \u001b[90m │\u001b[39m\u001b[31m⢀\u001b[39m\u001b[31m⠈\u001b[39m\u001b[0m⠀\u001b[0m⠀\u001b[31m⠂\u001b[39m\u001b[0m⠀\u001b[0m⠀\u001b[31m⠁\u001b[39m\u001b[31m⢠\u001b[39m\u001b[31m⠈\u001b[39m\u001b[31m⠄\u001b[39m\u001b[31m⠁\u001b[39m\u001b[0m⠀\u001b[0m⠀\u001b[31m⡈\u001b[39m\u001b[31m⠈\u001b[39m\u001b[31m⠠\u001b[39m\u001b[0m⠀\u001b[31m⢀\u001b[39m\u001b[31m⡦\u001b[39m\u001b[0m⠀\u001b[0m⠀\u001b[31m⠅\u001b[39m\u001b[31m⠐\u001b[39m\u001b[0m⠀\u001b[31m⠨\u001b[39m\u001b[31m⠁\u001b[39m\u001b[31m⠨\u001b[39m\u001b[0m⠀\u001b[31m⠄\u001b[39m\u001b[31m⠠\u001b[39m\u001b[31m⢀\u001b[39m\u001b[0m⠀\u001b[31m⠐\u001b[39m\u001b[31m⢐\u001b[39m\u001b[0m⠀\u001b[0m⠀\u001b[31m⠉\u001b[39m\u001b[0m⠀\u001b[0m⠀\u001b[31m⠠\u001b[39m\u001b[31m⠉\u001b[39m\u001b[90m│\u001b[39m    \n",
       "        \u001b[90m │\u001b[39m\u001b[0m⠀\u001b[0m⠀\u001b[31m⠨\u001b[39m\u001b[0m⠀\u001b[31m⠋\u001b[39m\u001b[0m⠀\u001b[31m⠄\u001b[39m\u001b[0m⠀\u001b[31m⠂\u001b[39m\u001b[0m⠀\u001b[31m⠈\u001b[39m\u001b[0m⠀\u001b[0m⠀\u001b[0m⠀\u001b[31m⠈\u001b[39m\u001b[0m⠀\u001b[0m⠀\u001b[0m⠀\u001b[0m⠀\u001b[31m⡑\u001b[39m\u001b[0m⠀\u001b[31m⢀\u001b[39m\u001b[31m⠈\u001b[39m\u001b[31m⠈\u001b[39m\u001b[0m⠀\u001b[0m⠀\u001b[0m⠀\u001b[31m⠈\u001b[39m\u001b[0m⠀\u001b[31m⠂\u001b[39m\u001b[31m⠐\u001b[39m\u001b[31m⠼\u001b[39m\u001b[0m⠀\u001b[31m⠠\u001b[39m\u001b[0m⠀\u001b[0m⠀\u001b[31m⡈\u001b[39m\u001b[31m⠁\u001b[39m\u001b[0m⠀\u001b[0m⠀\u001b[31m⠡\u001b[39m\u001b[31m⠄\u001b[39m\u001b[90m│\u001b[39m    \n",
       "        \u001b[90m │\u001b[39m\u001b[31m⠠\u001b[39m\u001b[31m⡁\u001b[39m\u001b[0m⠀\u001b[0m⠀\u001b[0m⠀\u001b[0m⠀\u001b[0m⠀\u001b[0m⠀\u001b[0m⠀\u001b[0m⠀\u001b[31m⠂\u001b[39m\u001b[31m⢀\u001b[39m\u001b[0m⠀\u001b[0m⠀\u001b[0m⠀\u001b[31m⡄\u001b[39m\u001b[0m⠀\u001b[0m⠀\u001b[0m⠀\u001b[31m⠤\u001b[39m\u001b[0m⠀\u001b[0m⠀\u001b[31m⠁\u001b[39m\u001b[0m⠀\u001b[31m⡂\u001b[39m\u001b[0m⠀\u001b[0m⠀\u001b[0m⠀\u001b[31m⠄\u001b[39m\u001b[0m⠀\u001b[31m⢈\u001b[39m\u001b[0m⠀\u001b[31m⢔\u001b[39m\u001b[31m⡊\u001b[39m\u001b[31m⣨\u001b[39m\u001b[31m⠈\u001b[39m\u001b[31m⠂\u001b[39m\u001b[0m⠀\u001b[31m⠄\u001b[39m\u001b[31m⢀\u001b[39m\u001b[0m⠀\u001b[0m⠀\u001b[90m│\u001b[39m    \n",
       "        \u001b[90m │\u001b[39m\u001b[0m⠀\u001b[31m⠂\u001b[39m\u001b[0m⠀\u001b[31m⠈\u001b[39m\u001b[0m⠀\u001b[0m⠀\u001b[0m⠀\u001b[0m⠀\u001b[0m⠀\u001b[0m⠀\u001b[31m⠈\u001b[39m\u001b[0m⠀\u001b[31m⡀\u001b[39m\u001b[0m⠀\u001b[31m⠂\u001b[39m\u001b[31m⠠\u001b[39m\u001b[31m⠐\u001b[39m\u001b[0m⠀\u001b[31m⠄\u001b[39m\u001b[0m⠀\u001b[0m⠀\u001b[0m⠀\u001b[0m⠀\u001b[0m⠀\u001b[0m⠀\u001b[31m⠤\u001b[39m\u001b[0m⠀\u001b[0m⠀\u001b[0m⠀\u001b[31m⠠\u001b[39m\u001b[31m⠘\u001b[39m\u001b[31m⠐\u001b[39m\u001b[0m⠀\u001b[31m⠄\u001b[39m\u001b[31m⢘\u001b[39m\u001b[0m⠀\u001b[0m⠀\u001b[31m⢐\u001b[39m\u001b[31m⠄\u001b[39m\u001b[0m⠀\u001b[31m⠁\u001b[39m\u001b[0m⠀\u001b[90m│\u001b[39m    \n",
       "        \u001b[90m │\u001b[39m\u001b[31m⢀\u001b[39m\u001b[31m⠄\u001b[39m\u001b[31m⢠\u001b[39m\u001b[31m⠄\u001b[39m\u001b[31m⡊\u001b[39m\u001b[31m⠂\u001b[39m\u001b[31m⠢\u001b[39m\u001b[31m⢀\u001b[39m\u001b[0m⠀\u001b[0m⠀\u001b[0m⠀\u001b[0m⠀\u001b[31m⠄\u001b[39m\u001b[31m⡀\u001b[39m\u001b[31m⡑\u001b[39m\u001b[0m⠀\u001b[31m⡐\u001b[39m\u001b[0m⠀\u001b[31m⠁\u001b[39m\u001b[31m⡂\u001b[39m\u001b[0m⠀\u001b[0m⠀\u001b[0m⠀\u001b[31m⠰\u001b[39m\u001b[31m⠂\u001b[39m\u001b[31m⢠\u001b[39m\u001b[31m⠄\u001b[39m\u001b[31m⠈\u001b[39m\u001b[0m⠀\u001b[31m⠈\u001b[39m\u001b[31m⠐\u001b[39m\u001b[0m⠀\u001b[0m⠀\u001b[0m⠀\u001b[31m⠉\u001b[39m\u001b[0m⠀\u001b[0m⠀\u001b[31m⡀\u001b[39m\u001b[0m⠀\u001b[0m⠀\u001b[31m⠃\u001b[39m\u001b[0m⠀\u001b[90m│\u001b[39m    \n",
       "        \u001b[90m │\u001b[39m\u001b[0m⠀\u001b[0m⠀\u001b[31m⠅\u001b[39m\u001b[0m⠀\u001b[31m⡁\u001b[39m\u001b[0m⠀\u001b[0m⠀\u001b[0m⠀\u001b[0m⠀\u001b[0m⠀\u001b[31m⢁\u001b[39m\u001b[31m⢀\u001b[39m\u001b[0m⠀\u001b[31m⡀\u001b[39m\u001b[31m⡀\u001b[39m\u001b[31m⡐\u001b[39m\u001b[0m⠀\u001b[0m⠀\u001b[31m⠈\u001b[39m\u001b[31m⠈\u001b[39m\u001b[31m⠔\u001b[39m\u001b[31m⠄\u001b[39m\u001b[0m⠀\u001b[0m⠀\u001b[31m⢀\u001b[39m\u001b[0m⠀\u001b[0m⠀\u001b[0m⠀\u001b[0m⠀\u001b[0m⠀\u001b[0m⠀\u001b[0m⠀\u001b[0m⠀\u001b[31m⠄\u001b[39m\u001b[31m⢉\u001b[39m\u001b[31m⠠\u001b[39m\u001b[31m⠁\u001b[39m\u001b[0m⠀\u001b[31m⠁\u001b[39m\u001b[0m⠀\u001b[0m⠀\u001b[0m⠀\u001b[90m│\u001b[39m    \n",
       "        \u001b[90m │\u001b[39m\u001b[31m⠊\u001b[39m\u001b[31m⢈\u001b[39m\u001b[0m⠀\u001b[31m⠁\u001b[39m\u001b[0m⠀\u001b[0m⠀\u001b[0m⠀\u001b[31m⠅\u001b[39m\u001b[0m⠀\u001b[31m⠂\u001b[39m\u001b[0m⠀\u001b[31m⡀\u001b[39m\u001b[0m⠀\u001b[0m⠀\u001b[0m⠀\u001b[0m⠀\u001b[31m⡀\u001b[39m\u001b[0m⠀\u001b[0m⠀\u001b[31m⠐\u001b[39m\u001b[31m⠄\u001b[39m\u001b[31m⠁\u001b[39m\u001b[31m⠠\u001b[39m\u001b[0m⠀\u001b[31m⠐\u001b[39m\u001b[31m⠈\u001b[39m\u001b[0m⠀\u001b[0m⠀\u001b[0m⠀\u001b[31m⡀\u001b[39m\u001b[31m⢠\u001b[39m\u001b[0m⠀\u001b[0m⠀\u001b[0m⠀\u001b[31m⢰\u001b[39m\u001b[0m⠀\u001b[0m⠀\u001b[0m⠀\u001b[31m⢀\u001b[39m\u001b[0m⠀\u001b[31m⠠\u001b[39m\u001b[31m⠂\u001b[39m\u001b[90m│\u001b[39m    \n",
       "        \u001b[90m │\u001b[39m\u001b[31m⠈\u001b[39m\u001b[0m⠀\u001b[0m⠀\u001b[31m⠈\u001b[39m\u001b[31m⠄\u001b[39m\u001b[0m⠀\u001b[0m⠀\u001b[31m⠄\u001b[39m\u001b[31m⠐\u001b[39m\u001b[0m⠀\u001b[31m⠠\u001b[39m\u001b[31m⠁\u001b[39m\u001b[31m⠁\u001b[39m\u001b[0m⠀\u001b[31m⡂\u001b[39m\u001b[0m⠀\u001b[31m⠠\u001b[39m\u001b[31m⠄\u001b[39m\u001b[31m⠌\u001b[39m\u001b[31m⠅\u001b[39m\u001b[31m⣀\u001b[39m\u001b[0m⠀\u001b[0m⠀\u001b[31m⢀\u001b[39m\u001b[0m⠀\u001b[31m⠠\u001b[39m\u001b[0m⠀\u001b[31m⠠\u001b[39m\u001b[31m⠠\u001b[39m\u001b[0m⠀\u001b[31m⠲\u001b[39m\u001b[31m⢂\u001b[39m\u001b[0m⠀\u001b[31m⠰\u001b[39m\u001b[31m⡄\u001b[39m\u001b[0m⠀\u001b[31m⢀\u001b[39m\u001b[31m⠬\u001b[39m\u001b[31m⠈\u001b[39m\u001b[0m⠀\u001b[0m⠀\u001b[0m⠀\u001b[90m│\u001b[39m    \n",
       "        \u001b[90m │\u001b[39m\u001b[31m⠈\u001b[39m\u001b[0m⠀\u001b[0m⠀\u001b[31m⠄\u001b[39m\u001b[0m⠀\u001b[0m⠀\u001b[31m⡀\u001b[39m\u001b[31m⠈\u001b[39m\u001b[0m⠀\u001b[0m⠀\u001b[31m⠙\u001b[39m\u001b[0m⠀\u001b[0m⠀\u001b[0m⠀\u001b[31m⢀\u001b[39m\u001b[31m⢀\u001b[39m\u001b[31m⠂\u001b[39m\u001b[0m⠀\u001b[0m⠀\u001b[31m⡄\u001b[39m\u001b[31m⢀\u001b[39m\u001b[0m⠀\u001b[31m⠠\u001b[39m\u001b[0m⠀\u001b[31m⠂\u001b[39m\u001b[0m⠀\u001b[0m⠀\u001b[31m⠐\u001b[39m\u001b[0m⠀\u001b[0m⠀\u001b[31m⠸\u001b[39m\u001b[0m⠀\u001b[0m⠀\u001b[0m⠀\u001b[31m⠈\u001b[39m\u001b[31m⠠\u001b[39m\u001b[0m⠀\u001b[31m⠠\u001b[39m\u001b[31m⠁\u001b[39m\u001b[0m⠀\u001b[31m⠂\u001b[39m\u001b[0m⠀\u001b[90m│\u001b[39m    \n",
       "        \u001b[90m │\u001b[39m\u001b[31m⠄\u001b[39m\u001b[0m⠀\u001b[0m⠀\u001b[0m⠀\u001b[31m⠄\u001b[39m\u001b[31m⠂\u001b[39m\u001b[31m⠂\u001b[39m\u001b[0m⠀\u001b[0m⠀\u001b[0m⠀\u001b[31m⠡\u001b[39m\u001b[31m⠁\u001b[39m\u001b[0m⠀\u001b[31m⢉\u001b[39m\u001b[31m⠄\u001b[39m\u001b[0m⠀\u001b[0m⠀\u001b[0m⠀\u001b[31m⡐\u001b[39m\u001b[31m⠑\u001b[39m\u001b[31m⠂\u001b[39m\u001b[31m⠄\u001b[39m\u001b[31m⠂\u001b[39m\u001b[0m⠀\u001b[0m⠀\u001b[0m⠀\u001b[31m⢀\u001b[39m\u001b[0m⠀\u001b[31m⢀\u001b[39m\u001b[0m⠀\u001b[0m⠀\u001b[0m⠀\u001b[0m⠀\u001b[31m⠉\u001b[39m\u001b[31m⠠\u001b[39m\u001b[31m⠈\u001b[39m\u001b[0m⠀\u001b[31m⠁\u001b[39m\u001b[0m⠀\u001b[0m⠀\u001b[31m⡀\u001b[39m\u001b[31m⠄\u001b[39m\u001b[90m│\u001b[39m    \n",
       "        \u001b[90m │\u001b[39m\u001b[0m⠀\u001b[0m⠀\u001b[0m⠀\u001b[0m⠀\u001b[0m⠀\u001b[0m⠀\u001b[0m⠀\u001b[0m⠀\u001b[0m⠀\u001b[0m⠀\u001b[0m⠀\u001b[31m⠠\u001b[39m\u001b[31m⠂\u001b[39m\u001b[0m⠀\u001b[0m⠀\u001b[31m⠄\u001b[39m\u001b[0m⠀\u001b[0m⠀\u001b[0m⠀\u001b[0m⠀\u001b[31m⠐\u001b[39m\u001b[31m⡀\u001b[39m\u001b[0m⠀\u001b[0m⠀\u001b[31m⠁\u001b[39m\u001b[0m⠀\u001b[31m⠐\u001b[39m\u001b[0m⠀\u001b[0m⠀\u001b[0m⠀\u001b[31m⢰\u001b[39m\u001b[31m⡄\u001b[39m\u001b[31m⠁\u001b[39m\u001b[0m⠀\u001b[0m⠀\u001b[31m⠉\u001b[39m\u001b[31m⠠\u001b[39m\u001b[0m⠀\u001b[31m⠠\u001b[39m\u001b[0m⠀\u001b[31m⡀\u001b[39m\u001b[0m⠀\u001b[90m│\u001b[39m    \n",
       "        \u001b[90m │\u001b[39m\u001b[31m⡁\u001b[39m\u001b[31m⠄\u001b[39m\u001b[31m⢀\u001b[39m\u001b[31m⠂\u001b[39m\u001b[0m⠀\u001b[31m⠁\u001b[39m\u001b[31m⡈\u001b[39m\u001b[31m⠆\u001b[39m\u001b[0m⠀\u001b[31m⠄\u001b[39m\u001b[31m⠁\u001b[39m\u001b[31m⠁\u001b[39m\u001b[0m⠀\u001b[31m⠂\u001b[39m\u001b[31m⠁\u001b[39m\u001b[0m⠀\u001b[31m⠂\u001b[39m\u001b[31m⢀\u001b[39m\u001b[0m⠀\u001b[0m⠀\u001b[0m⠀\u001b[0m⠀\u001b[0m⠀\u001b[0m⠀\u001b[31m⠁\u001b[39m\u001b[0m⠀\u001b[0m⠀\u001b[31m⡀\u001b[39m\u001b[0m⠀\u001b[31m⠐\u001b[39m\u001b[0m⠀\u001b[0m⠀\u001b[0m⠀\u001b[0m⠀\u001b[0m⠀\u001b[0m⠀\u001b[0m⠀\u001b[31m⢀\u001b[39m\u001b[31m⠄\u001b[39m\u001b[31m⠤\u001b[39m\u001b[31m⠁\u001b[39m\u001b[31m⠠\u001b[39m\u001b[90m│\u001b[39m    \n",
       "        \u001b[90m │\u001b[39m\u001b[0m⠀\u001b[31m⠅\u001b[39m\u001b[31m⠄\u001b[39m\u001b[31m⠈\u001b[39m\u001b[0m⠀\u001b[31m⢀\u001b[39m\u001b[31m⠂\u001b[39m\u001b[31m⠁\u001b[39m\u001b[31m⠐\u001b[39m\u001b[0m⠀\u001b[31m⡠\u001b[39m\u001b[31m⠄\u001b[39m\u001b[0m⠀\u001b[31m⠄\u001b[39m\u001b[31m⠐\u001b[39m\u001b[0m⠀\u001b[0m⠀\u001b[0m⠀\u001b[0m⠀\u001b[31m⡀\u001b[39m\u001b[0m⠀\u001b[31m⠁\u001b[39m\u001b[31m⡢\u001b[39m\u001b[0m⠀\u001b[31m⠙\u001b[39m\u001b[0m⠀\u001b[31m⠇\u001b[39m\u001b[0m⠀\u001b[31m⢂\u001b[39m\u001b[0m⠀\u001b[31m⣠\u001b[39m\u001b[0m⠀\u001b[31m⠂\u001b[39m\u001b[0m⠀\u001b[0m⠀\u001b[31m⠂\u001b[39m\u001b[0m⠀\u001b[31m⠥\u001b[39m\u001b[31m⠄\u001b[39m\u001b[31m⢁\u001b[39m\u001b[31m⡀\u001b[39m\u001b[31m⡀\u001b[39m\u001b[90m│\u001b[39m    \n",
       "   \u001b[90m10000\u001b[39m\u001b[90m │\u001b[39m\u001b[31m⠘\u001b[39m\u001b[0m⠀\u001b[0m⠀\u001b[0m⠀\u001b[31m⠈\u001b[39m\u001b[31m⠃\u001b[39m\u001b[31m⡁\u001b[39m\u001b[31m⠨\u001b[39m\u001b[31m⠁\u001b[39m\u001b[31m⠐\u001b[39m\u001b[0m⠀\u001b[0m⠀\u001b[31m⠈\u001b[39m\u001b[31m⠁\u001b[39m\u001b[31m⠄\u001b[39m\u001b[0m⠀\u001b[31m⠁\u001b[39m\u001b[0m⠀\u001b[0m⠀\u001b[31m⠂\u001b[39m\u001b[31m⠁\u001b[39m\u001b[31m⢈\u001b[39m\u001b[31m⠁\u001b[39m\u001b[0m⠀\u001b[0m⠀\u001b[31m⡁\u001b[39m\u001b[0m⠀\u001b[0m⠀\u001b[0m⠀\u001b[31m⢀\u001b[39m\u001b[31m⢰\u001b[39m\u001b[0m⠀\u001b[0m⠀\u001b[31m⠈\u001b[39m\u001b[0m⠀\u001b[31m⠈\u001b[39m\u001b[0m⠀\u001b[0m⠀\u001b[0m⠀\u001b[0m⠀\u001b[31m⡂\u001b[39m\u001b[0m⠀\u001b[90m│\u001b[39m    \n",
       "\u001b[90m         └──────────────────────────────────────────┘\u001b[39m    \n",
       "\u001b[90m         1\u001b[39m\u001b[90m                    \u001b[39m\u001b[90m                  10000\u001b[39m\n",
       "\u001b[0m                          nz = 600"
      ]
     },
     "execution_count": 8,
     "metadata": {},
     "output_type": "execute_result"
    }
   ],
   "source": [
    "# visualize the sparsity pattern of A or a submatrix of A say A[1:10000, 1:10000].\n",
    "\n",
    "using UnicodePlots\n",
    "spy(A[1:10000, 1:10000])"
   ]
  },
  {
   "cell_type": "markdown",
   "metadata": {},
   "source": [
    "## Q4. (5 pts) Dense linear algebra"
   ]
  },
  {
   "cell_type": "markdown",
   "metadata": {},
   "source": [
    "Answer: according to the LU decomposition lecture, to solve $\\boldsymbol{Ax}=\\boldsymbol{b}$ via LU, we need a total of \n",
    "$$\n",
    "\\frac{2}{3}n^3+2n^2 \\approx 5.1310378\\times10^{17} \\; \\text{flops}\n",
    "$$\n",
    "My macbook runs an Intel Quad-Core Intel Core i5, 2.3 GHz, the architecture of which processes 4 flops of Float64 per second. Let's be conservative and assume all four cores of my CPU are utilized (dividing by 4). Thus we'll need $\\frac{5.1310378\\times10^{17}}{4\\times2.3\\times10^{9}} \\approx 5.577215\\times10^{7}$ seconds to process, which is about $645.511$ days, or $1.769$ years to solve this equation."
   ]
  },
  {
   "cell_type": "markdown",
   "metadata": {},
   "source": [
    "As for memory allocation, if we are willing to overwrite matrix $\\boldsymbol{A}$ with matrices $\\boldsymbol{L}$ and $\\boldsymbol{U}$, which will take about $1.0498\\times10^{11}$ bytes (previous question), or 104.98 GB."
   ]
  },
  {
   "cell_type": "markdown",
   "metadata": {},
   "source": [
    "## Q5. Iterative solvers\n",
    "\n",
    "### Step 1 (15 pts)"
   ]
  },
  {
   "cell_type": "code",
   "execution_count": 9,
   "metadata": {},
   "outputs": [],
   "source": [
    "using BenchmarkTools, LinearAlgebra, SparseArrays, Revise\n",
    "\n",
    "# a type for the matrix M = I - P^T in PageRank problem\n",
    "struct PageRankImPt{TA <: Number, IA <: Integer, T <: AbstractFloat} <: AbstractMatrix{T}\n",
    "    A         :: SparseMatrixCSC{TA, IA} # adjacency matrix\n",
    "    telep     :: T\n",
    "    # working arrays\n",
    "    # TODO: whatever intermediate arrays you may want to pre-allocate\n",
    "\n",
    "    B :: Vector{T}\n",
    "    C :: Vector{T}\n",
    "    storage_n1 :: Vector{T}\n",
    "    storage_n2 :: Vector{T}\n",
    "    #n :: IA\n",
    "end"
   ]
  },
  {
   "cell_type": "code",
   "execution_count": 10,
   "metadata": {},
   "outputs": [],
   "source": [
    "# constructor\n",
    "function PageRankImPt(A::SparseMatrixCSC, telep::T) where T <: AbstractFloat\n",
    "    n = size(A, 1)\n",
    "    # TODO: initialize and pre-allocate arrays\n",
    "    # Practically, just divide each row of A by its own row sum and plut (1-p)/n\n",
    "    #B = A ./ sum(A, dims = 2) \n",
    "    #nn = nnz(A)\n",
    "    B = Vector{Float64}(undef, n)\n",
    "    C = similar(B)\n",
    "   \n",
    "    temp = vec(sum(A, dims = 2))\n",
    "    for i in 1:n\n",
    "        if temp[i] == 0\n",
    "            B[i], C[i] = 0, 1 / n\n",
    "        else \n",
    "            B[i], C[i] = telep / temp[i], (1 - telep) / n\n",
    "        end\n",
    "    end\n",
    "    \n",
    "    #BA = similar(A)\n",
    "    #BA = (B * A) * telep\n",
    "    \n",
    "    #C .= C_temp .* telep / n\n",
    "    #C_diag = similar(BA)\n",
    "    #C_diag .= spdiagm(0 => C_temp) .* telep\n",
    "    \n",
    "    storage_n1 = similar(B)\n",
    "    storage_n2 = similar(B)\n",
    "    PageRankImPt(A, telep, B, C, storage_n1, storage_n2)\n",
    "end\n",
    "\n",
    "LinearAlgebra.issymmetric(::PageRankImPt) = false\n",
    "Base.size(M::PageRankImPt) = size(M.A)\n",
    "#Base.size(M::PageRankImPt) = M.n\n",
    "# TODO: implement this function for evaluating M[i, j]\n",
    "function Base.getindex(M::PageRankImPt, i, j)\n",
    "    if i == j\n",
    "        return 1 - M.A[j, i] * M.B[j] - M.C[j] \n",
    "    else \n",
    "        return - M.A[j, i] * M.B[j] - M.C[j] \n",
    "    end\n",
    "end\n",
    "\n",
    "# overwrite `out` by `(I - Pt) * v`\n",
    "function LinearAlgebra.mul!(\n",
    "        out :: Vector{T}, \n",
    "        M   :: PageRankImPt{<:Number, <:Integer, T}, \n",
    "        v   :: Vector{T}) where T <: AbstractFloat\n",
    "    # TODO: implement mul!(out, M, v)\n",
    "    # objective: compute A'Bv\n",
    "    # compute Bv first and store in the first container\n",
    "    M.storage_n1 .= M.B .* v\n",
    "    # compute B(Av) and joggle to the second container\n",
    "    mul!(M.storage_n2, transpose(M.A), M.storage_n1)\n",
    "    # Compute 1(c'v) in efficient order \n",
    "    temp_sumv = dot(M.C, v)\n",
    "\n",
    "    #sleep(1e-2) # wait 10 ms as if your code takes 1ms\n",
    "    out .= v .- M.storage_n2 .- temp_sumv\n",
    "end\n",
    "\n",
    "# overwrite `out` by `(I - P) * v`\n",
    "function LinearAlgebra.mul!(\n",
    "        out :: Vector{T}, \n",
    "        Mt  :: Transpose{T, PageRankImPt{TA, IA, T}}, \n",
    "        v   :: Vector{T}) where {TA<:Number, IA<:Integer, T <: AbstractFloat}\n",
    "    M = Mt.parent\n",
    "    # TODO: implement mul!(out, transpose(M), v)\n",
    "    # compute Av and store in first container\n",
    "    mul!(M.storage_n1, M.A, v)\n",
    "    # compute BAv and joggle to the second container\n",
    "    M.storage_n1 .*= M.B\n",
    "    # Compute c(1'v) in efficient order \n",
    "    temp_sumv = sum(v)\n",
    "    M.storage_n2 .= M.C .* temp_sumv\n",
    "    \n",
    "    #sleep(1e-2) # wait 10 ms as if your code takes 1ms\n",
    "    out .= v .- M.storage_n1 .- M.storage_n2\n",
    "end"
   ]
  },
  {
   "cell_type": "code",
   "execution_count": 11,
   "metadata": {},
   "outputs": [
    {
     "data": {
      "text/plain": [
       "916428-element Array{Float64,1}:\n",
       " 3.3783428216975054e-5\n",
       " 2.0710155392568165e-6\n",
       " 3.663065984832893e-6\n",
       " 7.527510785028837e-7\n",
       " 8.63328599674051e-7\n",
       " 1.769418252415541e-6\n",
       " 2.431230382883396e-7\n",
       " 6.368417180141445e-7\n",
       " 4.744973703681939e-7\n",
       " 2.6895486110647536e-7\n",
       " 3.18574314847409e-6\n",
       " 7.375106374416742e-7\n",
       " 2.431230382883396e-7\n",
       " ⋮\n",
       " 1.1305006040148547e-6\n",
       " 4.874825281822915e-6\n",
       " 3.167946973112519e-6\n",
       " 9.72688040308568e-7\n",
       " 6.588614479285245e-7\n",
       " 7.737011774300648e-7\n",
       " 2.431230382883396e-7\n",
       " 1.6219204214797293e-6\n",
       " 3.912130060551738e-7\n",
       " 2.431230382883396e-7\n",
       " 7.296033831163157e-6\n",
       " 6.330939996912478e-7"
      ]
     },
     "execution_count": 11,
     "metadata": {},
     "output_type": "execute_result"
    }
   ],
   "source": [
    "using DelimitedFiles\n",
    "\n",
    "isfile(\"pgrksol.csv\") || download(\"https://raw.githubusercontent.com/ucla-biostat-257-2020spring/ucla-biostat-257-2020spring.github.io/master/hw/hw3/pgrksol.csv\",\n",
    "                                  \"pgrksol.csv\")\n",
    "xsol = vec(readdlm(\"pgrksol.csv\"))"
   ]
  },
  {
   "cell_type": "code",
   "execution_count": 12,
   "metadata": {},
   "outputs": [],
   "source": [
    "M = PageRankImPt(A, 0.85)\n",
    "n = size(M, 1)\n",
    "\n",
    "#@assert transpose(M) * ones(n) ≈ zeros(n)\n",
    "@assert norm(transpose(M) * ones(n)) < 1e-12"
   ]
  },
  {
   "cell_type": "code",
   "execution_count": 13,
   "metadata": {},
   "outputs": [],
   "source": [
    "@assert norm(M * xsol) < 1e-12"
   ]
  },
  {
   "cell_type": "markdown",
   "metadata": {},
   "source": [
    "### Step 2 (20 pts)"
   ]
  },
  {
   "cell_type": "code",
   "execution_count": 14,
   "metadata": {},
   "outputs": [
    {
     "data": {
      "text/plain": [
       "BenchmarkTools.Trial: \n",
       "  memory estimate:  16 bytes\n",
       "  allocs estimate:  1\n",
       "  --------------\n",
       "  minimum time:     24.743 ms (0.00% GC)\n",
       "  median time:      30.359 ms (0.00% GC)\n",
       "  mean time:        33.626 ms (0.00% GC)\n",
       "  maximum time:     59.865 ms (0.00% GC)\n",
       "  --------------\n",
       "  samples:          145\n",
       "  evals/sample:     1"
      ]
     },
     "execution_count": 14,
     "metadata": {},
     "output_type": "execute_result"
    }
   ],
   "source": [
    "M = PageRankImPt(A, 0.85)\n",
    "n = size(M, 1)\n",
    "v, out = ones(n), zeros(n)\n",
    "bm_mv = @benchmark mul!($out, $M, $v) setup=(fill!(out, 0); fill!(v, 1))"
   ]
  },
  {
   "cell_type": "code",
   "execution_count": 15,
   "metadata": {},
   "outputs": [
    {
     "data": {
      "text/plain": [
       "BenchmarkTools.Trial: \n",
       "  memory estimate:  0 bytes\n",
       "  allocs estimate:  0\n",
       "  --------------\n",
       "  minimum time:     25.377 ms (0.00% GC)\n",
       "  median time:      25.834 ms (0.00% GC)\n",
       "  mean time:        25.982 ms (0.00% GC)\n",
       "  maximum time:     29.125 ms (0.00% GC)\n",
       "  --------------\n",
       "  samples:          186\n",
       "  evals/sample:     1"
      ]
     },
     "execution_count": 15,
     "metadata": {},
     "output_type": "execute_result"
    }
   ],
   "source": [
    "bm_mtv = @benchmark mul!($out, $(transpose(M)), $v) setup=(fill!(out, 0); fill!(v, 1))"
   ]
  },
  {
   "cell_type": "code",
   "execution_count": 16,
   "metadata": {},
   "outputs": [
    {
     "data": {
      "text/plain": [
       "19.84"
      ]
     },
     "execution_count": 16,
     "metadata": {},
     "output_type": "execute_result"
    }
   ],
   "source": [
    "clamp(10 - median(bm_mv).memory / 100, 0, 10) + \n",
    "clamp(10 - median(bm_mtv).memory / 100, 0, 10)"
   ]
  },
  {
   "cell_type": "markdown",
   "metadata": {},
   "source": [
    "### Step 3 (20 pts)\n",
    "Let's first try to solve the PageRank problem by the GMRES method for solving linear equations."
   ]
  },
  {
   "cell_type": "code",
   "execution_count": 17,
   "metadata": {},
   "outputs": [
    {
     "data": {
      "text/plain": [
       "(([3.378342822183467e-5, 2.0710155392451414e-6, 3.6630659852312195e-6, 7.527510785590206e-7, 8.633285997147142e-7, 1.769418252734902e-6, 2.4312303829080185e-7, 6.368417180736775e-7, 4.7449737037419693e-7, 2.689548611091997e-7  …  3.167946973972633e-6, 9.72688041021552e-7, 6.588614478531544e-7, 7.737011774701954e-7, 2.4312303829080185e-7, 1.6219204214219846e-6, 3.9121300606249305e-7, 2.4312303829080185e-7, 7.29603383131283e-6, 6.33093999666783e-7], ConvergenceInfo: one converged value after 3 iterations and 72 applications of the linear map;\n",
       "norms of residuals are given by (7.821170022857733e-13,).\n",
       "), 6.0618673, 1010852361, 0.2062442, Base.GC_Diff(1010852361, 137, 0, 123826, 6, 0, 206244200, 5, 2))"
      ]
     },
     "execution_count": 17,
     "metadata": {},
     "output_type": "execute_result"
    }
   ],
   "source": [
    "using KrylovKit\n",
    "\n",
    "# normalize in-degrees to be the start point\n",
    "x0   = vec(sum(A, dims = 1)) .+ 1.0\n",
    "x0 ./= sum(x0)\n",
    "\n",
    "# right hand side\n",
    "b = zeros(n)\n",
    "\n",
    "# warm up (compilation)\n",
    "linsolve(M, b, x0, issymmetric = false, isposdef = false, maxiter = 1) \n",
    "# output is complex eigenvalue/eigenvector\n",
    "(x_gmres, info), time_gmres, = @timed linsolve(M, b, x0, issymmetric = false, isposdef = false)"
   ]
  },
  {
   "cell_type": "code",
   "execution_count": 18,
   "metadata": {},
   "outputs": [],
   "source": [
    "@assert norm(x_gmres - xsol) < 1e-8"
   ]
  },
  {
   "cell_type": "code",
   "execution_count": 19,
   "metadata": {},
   "outputs": [
    {
     "data": {
      "text/plain": [
       "20.0"
      ]
     },
     "execution_count": 19,
     "metadata": {},
     "output_type": "execute_result"
    }
   ],
   "source": [
    "clamp(20 / time_gmres * 20, 0, 20)"
   ]
  },
  {
   "cell_type": "markdown",
   "metadata": {},
   "source": [
    "### Step 4 (20 pts)\n",
    "Let's first try to solve the PageRank problem by the Arnoldi method for solving eigen problems."
   ]
  },
  {
   "cell_type": "code",
   "execution_count": 20,
   "metadata": {},
   "outputs": [
    {
     "data": {
      "text/plain": [
       "((Complex{Float64}[-8.347285846003266e-15 + 0.0im], Array{Complex{Float64},1}[[0.005635826953806779 + 0.0im, 0.00034549143807825587 + 0.0im, 0.0006110808494124571 + 0.0im, 0.00012557561626034094 + 0.0im, 0.00014402240532801998 + 0.0im, 0.0002951783050398202 + 0.0im, 4.0558328286775626e-5 + 0.0im, 0.00010623935784851125 + 0.0im, 7.915671116194682e-5 + 0.0im, 4.486765066724555e-5 + 0.0im  …  0.0005284839899796505 + 0.0im, 0.00016226599147987173 + 0.0im, 0.00010991273837608696 + 0.0im, 0.00012907055855750535 + 0.0im, 4.055832828677563e-5 + 0.0im, 0.0002705723874320158 + 0.0im, 6.526302748332824e-5 + 0.0im, 4.055832828677563e-5 + 0.0im, 0.0012171406601327078 + 0.0im, 0.00010561415510698254 + 0.0im]], ConvergenceInfo: one converged value after 7 iterations and 99 applications of the linear map;\n",
       "norms of residuals are given by (9.575729268334711e-14,).\n",
       "), 11.2189324, 1584015125, 0.1541198, Base.GC_Diff(1584015125, 213, 0, 139459, 50, 0, 154119800, 6, 0))"
      ]
     },
     "execution_count": 20,
     "metadata": {},
     "output_type": "execute_result"
    }
   ],
   "source": [
    "# warm up (compilation)\n",
    "eigsolve(M, x0, 1, :SR, issymmetric = false, maxiter = 1)\n",
    "# output is complex eigenvalue/eigenvector\n",
    "(vals, vecs, info), time_arnoldi, = @timed eigsolve(M, x0, 1, :SR, issymmetric = false)"
   ]
  },
  {
   "cell_type": "code",
   "execution_count": 21,
   "metadata": {},
   "outputs": [],
   "source": [
    "@assert abs(Real(vals[1])) < 1e-8"
   ]
  },
  {
   "cell_type": "code",
   "execution_count": 22,
   "metadata": {},
   "outputs": [],
   "source": [
    "x_arnoldi   = abs.(Real.(vecs[1]))\n",
    "x_arnoldi ./= sum(x_arnoldi)\n",
    "@assert norm(x_arnoldi - xsol) < 1e-8"
   ]
  },
  {
   "cell_type": "code",
   "execution_count": 23,
   "metadata": {},
   "outputs": [
    {
     "data": {
      "text/plain": [
       "20.0"
      ]
     },
     "execution_count": 23,
     "metadata": {},
     "output_type": "execute_result"
    }
   ],
   "source": [
    "clamp(20 / time_arnoldi * 20, 0, 20)"
   ]
  },
  {
   "cell_type": "markdown",
   "metadata": {},
   "source": [
    "## Q6. (5 pts) Results\n",
    "List the top 20 pages you found and their corresponding PageRank score. Do they match the top 20 pages ranked according to in-degrees?"
   ]
  },
  {
   "cell_type": "markdown",
   "metadata": {},
   "source": [
    "Answer: using the same sorting function from earlier questions to sort the solution vecto,"
   ]
  },
  {
   "cell_type": "code",
   "execution_count": 24,
   "metadata": {},
   "outputs": [
    {
     "data": {
      "text/plain": [
       "20-element Array{Int64,1}:\n",
       " 597622\n",
       "  41910\n",
       " 163076\n",
       " 537040\n",
       " 384667\n",
       " 504141\n",
       " 486981\n",
       " 605857\n",
       "  32164\n",
       " 558792\n",
       " 551830\n",
       " 765335\n",
       " 751385\n",
       " 425771\n",
       " 908352\n",
       " 173977\n",
       "   7315\n",
       " 213433\n",
       " 885606\n",
       " 819224"
      ]
     },
     "execution_count": 24,
     "metadata": {},
     "output_type": "execute_result"
    }
   ],
   "source": [
    "sortperm(vec(x_gmres), rev = true)[1:20]"
   ]
  },
  {
   "cell_type": "code",
   "execution_count": 25,
   "metadata": {},
   "outputs": [
    {
     "data": {
      "text/plain": [
       "20-element Array{Int64,1}:\n",
       " 597622\n",
       "  41910\n",
       " 163076\n",
       " 537040\n",
       " 384667\n",
       " 504141\n",
       " 486981\n",
       " 605857\n",
       "  32164\n",
       " 558792\n",
       " 551830\n",
       " 765335\n",
       " 751385\n",
       " 425771\n",
       " 908352\n",
       " 173977\n",
       "   7315\n",
       " 213433\n",
       " 885606\n",
       " 819224"
      ]
     },
     "execution_count": 25,
     "metadata": {},
     "output_type": "execute_result"
    }
   ],
   "source": [
    "# Then sort the solution from Arnoldi,\n",
    "sortperm(vec(x_arnoldi), rev = true)[1:20]"
   ]
  },
  {
   "cell_type": "markdown",
   "metadata": {},
   "source": [
    "Looks like the two solvers found the same solutions at least for the top 20 pages. good!"
   ]
  },
  {
   "cell_type": "markdown",
   "metadata": {},
   "source": [
    "## Q7. Be proud of yourself\n",
    "\n",
    "Answer: sounds good, will do."
   ]
  }
 ],
 "metadata": {
  "kernelspec": {
   "display_name": "Julia 1.4.0",
   "language": "julia",
   "name": "julia-1.4"
  },
  "language_info": {
   "file_extension": ".jl",
   "mimetype": "application/julia",
   "name": "julia",
   "version": "1.4.0"
  }
 },
 "nbformat": 4,
 "nbformat_minor": 4
}
